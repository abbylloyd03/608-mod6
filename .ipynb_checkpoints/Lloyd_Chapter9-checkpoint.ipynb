{
 "cells": [
  {
   "cell_type": "markdown",
   "id": "1a872fa9-b318-474a-baaf-d598bbcbb5bf",
   "metadata": {},
   "source": [
    "# Chapter 9: Files and Exceptions"
   ]
  },
  {
   "cell_type": "markdown",
   "id": "a3b8a4e3-ad2c-4c84-801f-3130edbb19ce",
   "metadata": {},
   "source": [
    "### 9.2 Files\n",
    "- Python views a text file as a sequence of characters and a binary file as a sequence of bytes\n",
    "- As in lists, the first character in a text file and byte in a binary file is located at position 0\n",
    "- The highest position number is n-1\n",
    "- For each file you open, Python creates a file object that you'll use to interact with the file\n",
    "\n",
    "\n",
    "Every operating system provides a mechanism to denote the end of a file\n",
    "- Some represent it with an end-of-file marker\n",
    "- Others might maintain a count of the total characters/bytes in the file"
   ]
  },
  {
   "cell_type": "markdown",
   "id": "471988c6-54fc-45d4-85e6-d659317b5d54",
   "metadata": {},
   "source": [
    "**Standard file objects**\n",
    "<br> When a Python program begins execution, it creates three standard file objects:\n",
    "- sys.stdin - the standard input file object\n",
    "- sys.stdout - the standard output file object\n",
    "- sys.stderr - the standard error file object\n",
    "- The input function implicitly uses sys.stdin to get user input from the keybord\n",
    "- Function print implicitly outputs to stdout, which appears in the command line\n",
    "- Python implicitly outputs program errors and tracebacks to sys.stderr, which also appears in the command line\n",
    "- You must import the sys module if you need to refer to these objects explicitly in your code\n"
   ]
  },
  {
   "cell_type": "markdown",
   "id": "df2623e6-b66d-4f4b-b2aa-8cb7a58dee4c",
   "metadata": {},
   "source": [
    "### 9.3 Text-file Processing"
   ]
  },
  {
   "cell_type": "code",
   "execution_count": null,
   "id": "5a845f19-fb8d-42c2-8780-2e6454798cbe",
   "metadata": {},
   "outputs": [],
   "source": []
  }
 ],
 "metadata": {
  "kernelspec": {
   "display_name": "Python 3 (ipykernel)",
   "language": "python",
   "name": "python3"
  },
  "language_info": {
   "codemirror_mode": {
    "name": "ipython",
    "version": 3
   },
   "file_extension": ".py",
   "mimetype": "text/x-python",
   "name": "python",
   "nbconvert_exporter": "python",
   "pygments_lexer": "ipython3",
   "version": "3.9.7"
  }
 },
 "nbformat": 4,
 "nbformat_minor": 5
}
