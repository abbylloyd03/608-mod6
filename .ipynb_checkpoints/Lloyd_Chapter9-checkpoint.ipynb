{
 "cells": [
  {
   "cell_type": "markdown",
   "id": "1a872fa9-b318-474a-baaf-d598bbcbb5bf",
   "metadata": {},
   "source": [
    "# Chapter 9: Files and Exceptions"
   ]
  },
  {
   "cell_type": "markdown",
   "id": "a3b8a4e3-ad2c-4c84-801f-3130edbb19ce",
   "metadata": {},
   "source": [
    "### 9.2 Files\n",
    "- Python views a text file as a sequence of characters and a binary file as a sequence of bytes\n",
    "- As in lists, the first character in a text file and byte in a binary file is located at position 0\n",
    "- The highest position number is n-1\n",
    "- For each file you open, Python creates a file object that you'll use to interact with the file\n",
    "\n",
    "\n",
    "Every operating system provides a mechanism to denote the end of a file\n",
    "- Some represent it with an end-of-file marker\n",
    "- Others might maintain a count of the total characters/bytes in the file"
   ]
  },
  {
   "cell_type": "markdown",
   "id": "471988c6-54fc-45d4-85e6-d659317b5d54",
   "metadata": {},
   "source": [
    "**Standard file objects**\n",
    "<br> When a Python program begins execution, it creates three standard file objects:\n",
    "- sys.stdin - the standard input file object\n",
    "- sys.stdout - the standard output file object\n",
    "- sys.stderr - the standard error file object\n",
    "- The input function implicitly uses sys.stdin to get user input from the keybord\n",
    "- Function print implicitly outputs to stdout, which appears in the command line\n",
    "- Python implicitly outputs program errors and tracebacks to sys.stderr, which also appears in the command line\n",
    "- You must import the sys module if you need to refer to these objects explicitly in your code\n"
   ]
  },
  {
   "cell_type": "markdown",
   "id": "df2623e6-b66d-4f4b-b2aa-8cb7a58dee4c",
   "metadata": {},
   "source": [
    "### 9.3 Text-file Processing"
   ]
  },
  {
   "cell_type": "code",
   "execution_count": 2,
   "id": "5a845f19-fb8d-42c2-8780-2e6454798cbe",
   "metadata": {},
   "outputs": [],
   "source": [
    "with open('accounts.txt', mode='w') as accounts: # Write mode\n",
    "    accounts.write('100 Jones 24.98\\n')\n",
    "    accounts.write('200 Doe 345.67\\n')\n",
    "    accounts.write('300 White 0.00\\n')\n",
    "    accounts.write('400 Stone -42.16\\n')\n",
    "    accounts.write('500 Rich 224.62\\n')\n",
    "    \n",
    "# You can also write to a file with print which automatically outputs a \\n\n",
    "# print('100 Jones 24.98', file=accounts)"
   ]
  },
  {
   "cell_type": "markdown",
   "id": "3eb33623-06e1-4829-b216-f6905a234aa6",
   "metadata": {},
   "source": [
    "**Python's with statement**\n",
    "- acquires a resource and assigns its corresponding object to a variable\n",
    "- allows the application to use the resource via that variable\n",
    "- calls the resource object's close method to release the resource when program control reaches the end of the with statement's suite"
   ]
  },
  {
   "cell_type": "markdown",
   "id": "a99dcdac-0674-44b6-b4ea-f3e7072048a5",
   "metadata": {},
   "source": [
    "**Built-in function open**\n",
    "- The open function opens the file and associates it with a file object\n",
    "- The mode argument specifies the file-open mode \n",
    "- The mode 'w' opens the file for writing, creating the file if it doesn not exist\n",
    "- If you do not specify a path to the file, Python creates it in the current folder\n",
    "- **Be careful:** Opening a file for writing deletes all the existing data in the file"
   ]
  },
  {
   "cell_type": "markdown",
   "id": "e479af63-a97e-465d-a787-826230a93c16",
   "metadata": {},
   "source": [
    "**Writing to the file**\n",
    "- The with statement assigns the object returned by open to the variable (accounts) in the as clause"
   ]
  },
  {
   "cell_type": "markdown",
   "id": "f3bd40a0-6f63-4f9d-9998-a60f7b99981e",
   "metadata": {},
   "source": [
    "### 9.3.1 Self Check"
   ]
  },
  {
   "cell_type": "code",
   "execution_count": 4,
   "id": "fcf74289-3e0f-4400-8a32-36586fdf5f54",
   "metadata": {},
   "outputs": [],
   "source": [
    "with open('grades.txt', mode='w') as grades:\n",
    "    grades.write('1 Red A\\n')\n",
    "    grades.write('2 Green B\\n')\n",
    "    grades.write('3 White A\\n')"
   ]
  },
  {
   "cell_type": "markdown",
   "id": "a434ba3a-1f53-4c2f-adb6-747e884a4fee",
   "metadata": {},
   "source": [
    "### 9.3.2 Reading Data from a Text File\n",
    "- If the contents of a file should not be modified, open the file for reading only - 'r'"
   ]
  },
  {
   "cell_type": "code",
   "execution_count": 8,
   "id": "c9c2871b-0fa3-40ea-814e-221517e34cc7",
   "metadata": {},
   "outputs": [
    {
     "name": "stdout",
     "output_type": "stream",
     "text": [
      "Account   Name         Balance\n",
      "100       Jones          24.98\n",
      "200       Doe           345.67\n",
      "300       White           0.00\n",
      "400       Stone         -42.16\n",
      "500       Rich          224.62\n"
     ]
    }
   ],
   "source": [
    "# Read records from the file accounts.txt and display the contents of each record in columns\n",
    "# The Account and Name columns are left aligned\n",
    "# Balance column is right aligned\n",
    "\n",
    "with open('accounts.txt', mode='r') as account: # Read mode\n",
    "    print(f'{\"Account\":<10}{\"Name\":<10}{\"Balance\":>10}')\n",
    "    for record in account:\n",
    "        account, name, balance = record.split()\n",
    "        print(f'{account:<10}{name:<10}{balance:>10}')"
   ]
  },
  {
   "cell_type": "markdown",
   "id": "1f0ab7b4-239e-4534-b39f-06bc9df98ca1",
   "metadata": {},
   "source": [
    "**File method readlines**\n",
    "- The readlines method also can be used to read an entire text file\n",
    "- The method returns each line as a string in a list of strings\n",
    "- Use only for small files"
   ]
  },
  {
   "cell_type": "markdown",
   "id": "2878a47e-213f-4863-a6e8-bddef94a96f4",
   "metadata": {},
   "source": [
    "**Seeking to a specific file position**\n",
    "- The system maintains a file-position pointer representing the location of the next character to read\n",
    "- To reposition the file-position pointer to the beginning of the file, use file_object.seek(0)"
   ]
  },
  {
   "cell_type": "markdown",
   "id": "875e9338-5bc0-4863-829f-8fec197cffa4",
   "metadata": {},
   "source": [
    "### 9.3.2 Self Check"
   ]
  },
  {
   "cell_type": "code",
   "execution_count": 10,
   "id": "16a39870-7ff0-45fe-be05-7fd4ea431aaf",
   "metadata": {},
   "outputs": [
    {
     "name": "stdout",
     "output_type": "stream",
     "text": [
      "ID        Name           Grade\n",
      "1         Red                A\n",
      "2         Green              B\n",
      "3         White              A\n"
     ]
    }
   ],
   "source": [
    "with open('grades.txt', mode='r') as grades:\n",
    "    print(f'{\"ID\":<10}{\"Name\":<10}{\"Grade\":>10}')\n",
    "    for record in grades:\n",
    "        id_1, name, grade = record.split()\n",
    "        print(f'{id_1:<10}{name:<10}{grade:>10}')"
   ]
  },
  {
   "cell_type": "markdown",
   "id": "1fbdad96-d524-4807-8c6c-119828460ea0",
   "metadata": {},
   "source": [
    "### 9.4 Updating Text Files\n",
    "- Formatted data written to a text file cannot be modified without the risk of destroying other data\n",
    "- How to replace \\[300 White 0.00]?\n",
    "- Copy the records before \\[300 White 0.00]\n",
    "- Write the updated and correctly formatted record for account 300 to this file\n",
    "- Copy the records after \\[300 White 0.00] to the temporary file\n",
    "- Delete the old file and\n",
    "- Rename the temporary file to use the original file's name"
   ]
  },
  {
   "cell_type": "markdown",
   "id": "b4528b1d-b2ac-4aec-82e1-78bdcd3adee3",
   "metadata": {},
   "source": [
    "**Updating accounts.txt**"
   ]
  },
  {
   "cell_type": "code",
   "execution_count": 11,
   "id": "ea70f16e-6abf-4552-8127-17fb98f22c19",
   "metadata": {},
   "outputs": [],
   "source": [
    "accounts = open('accounts.txt', 'r')\n",
    "\n",
    "# Create new temporary file\n",
    "temp_file = open('temp_file.txt', 'w')\n",
    "\n",
    "with accounts, temp_file:\n",
    "    # Copy  the records before and after White\n",
    "    for record in accounts:\n",
    "        account, name, balance = record.split()\n",
    "        if account != '300':\n",
    "            temp_file.write(record)\n",
    "        # Write the updated and correctly formatted record for 300\n",
    "        else:\n",
    "            new_record = ' '.join([account, 'Williams', balance])\n",
    "            temp_file.write(new_record + '\\n')\n",
    "                 "
   ]
  },
  {
   "cell_type": "markdown",
   "id": "6fe817c5-15cb-4cc0-b9f7-7493ca3f3f49",
   "metadata": {},
   "source": [
    "**os module file-processing functions**\n",
    "- The os module provides functions for interacting with the operating system, including several that manipulate your system's files and directories\n",
    "- The remove function is used to delete the original file\n",
    "- The rename function renames a file"
   ]
  },
  {
   "cell_type": "code",
   "execution_count": 12,
   "id": "fa756961-fd6b-4114-999f-d7c40c2fa914",
   "metadata": {},
   "outputs": [],
   "source": [
    "import os\n",
    "os.remove('accounts.txt')"
   ]
  },
  {
   "cell_type": "code",
   "execution_count": 14,
   "id": "8e725fa0-a07a-4cd0-b192-0bded2eba488",
   "metadata": {},
   "outputs": [
    {
     "ename": "FileNotFoundError",
     "evalue": "[Errno 2] No such file or directory: 'temp_file.txt' -> 'accounts.txt'",
     "output_type": "error",
     "traceback": [
      "\u001b[0;31m---------------------------------------------------------------------------\u001b[0m",
      "\u001b[0;31mFileNotFoundError\u001b[0m                         Traceback (most recent call last)",
      "Input \u001b[0;32mIn [14]\u001b[0m, in \u001b[0;36m<module>\u001b[0;34m\u001b[0m\n\u001b[0;32m----> 1\u001b[0m \u001b[43mos\u001b[49m\u001b[38;5;241;43m.\u001b[39;49m\u001b[43mrename\u001b[49m\u001b[43m(\u001b[49m\u001b[38;5;124;43m'\u001b[39;49m\u001b[38;5;124;43mtemp_file.txt\u001b[39;49m\u001b[38;5;124;43m'\u001b[39;49m\u001b[43m,\u001b[49m\u001b[43m \u001b[49m\u001b[38;5;124;43m'\u001b[39;49m\u001b[38;5;124;43maccounts.txt\u001b[39;49m\u001b[38;5;124;43m'\u001b[39;49m\u001b[43m)\u001b[49m\n",
      "\u001b[0;31mFileNotFoundError\u001b[0m: [Errno 2] No such file or directory: 'temp_file.txt' -> 'accounts.txt'"
     ]
    }
   ],
   "source": [
    "os.rename('temp_file.txt', 'accounts.txt')"
   ]
  },
  {
   "cell_type": "markdown",
   "id": "3bb9b00d-bab4-4565-a1fd-2dd1623cb5aa",
   "metadata": {},
   "source": [
    "### 9.4 Self Check"
   ]
  },
  {
   "cell_type": "code",
   "execution_count": 5,
   "id": "e0c44f10-5c75-458c-8570-ea19514b9aeb",
   "metadata": {},
   "outputs": [],
   "source": [
    "accounts = open('accounts.txt', 'r')\n",
    "temp_file = open('temp_file.txt', 'w')\n",
    "\n",
    "with accounts, temp_file:\n",
    "    for records in accounts:\n",
    "        account, name, balance = records.split()\n",
    "        if name != 'Doe':\n",
    "            temp_file.write(records)\n",
    "        else:\n",
    "            new_record = ' '.join([account, 'Smith', balance])\n",
    "            temp_file.write(new_record + '\\n')\n",
    "    "
   ]
  },
  {
   "cell_type": "code",
   "execution_count": 7,
   "id": "f1440ee5-a188-45f1-bda2-93bc329a988e",
   "metadata": {},
   "outputs": [],
   "source": [
    "import os\n",
    "os.remove('accounts.txt')\n",
    "os.rename('temp_file.txt', 'accounts.txt')"
   ]
  },
  {
   "cell_type": "markdown",
   "id": "6e9160ba-cd4a-48d3-8619-54dad9c3cd17",
   "metadata": {},
   "source": [
    "### 9.5 Serialization with JSON\n",
    "- JSON (JavaScript Object Notation) is a text-based, human-and-computer-readable, data-interchange format used to represent object as collections of name-value pairs\n",
    "- JSON can even represent objects of custom classes\n",
    "- JSON has become the preferred data format for transmitting objects across platforms (especially cloud-based web services)\n"
   ]
  },
  {
   "cell_type": "markdown",
   "id": "756a33d2-35f2-4054-acdc-47ab4fc203a0",
   "metadata": {
    "tags": []
   },
   "source": [
    "**JSON Data Format**\n",
    "- JSON objects are similar to Python dictionaries\n",
    "- Each JSON object contains a comma-separated list of property names and values, in curly braces\n",
    "- JSON also supports array (comma-separated values in square brackets\n",
    "\n",
    "\n",
    "Values in JSON objects and arrays can be:\n",
    "- strings in double quotes\n",
    "- numbers\n",
    "- JSON Boolean values\n",
    "- null\n",
    "- arrays\n",
    "- other JSON objects"
   ]
  },
  {
   "cell_type": "markdown",
   "id": "90cbe404-3c50-47e1-bdfa-155a21ea94d8",
   "metadata": {},
   "source": [
    "**Python standard library module json**\n",
    "- The json module enables you to convert objects to JSON text format. (This is known as serializing the data.)\n"
   ]
  },
  {
   "cell_type": "code",
   "execution_count": 8,
   "id": "3f8d344d-a8da-4a0f-87b2-2e32153f59bc",
   "metadata": {},
   "outputs": [],
   "source": [
    "accounts_dict = {'accounts': [\n",
    "    {'account': 100, 'name': 'Jones', 'balance': 24.98},\n",
    "    {'account': 200, 'name': 'Doe', 'balance': 345.67}]}"
   ]
  },
  {
   "cell_type": "code",
   "execution_count": 20,
   "id": "5f733f99-5599-4090-8a3f-3477a6b46228",
   "metadata": {},
   "outputs": [],
   "source": [
    "# Serialize the object to JSON\n",
    "\n",
    "import json\n",
    "\n",
    "with open('accounts.json', 'w') as accounts:\n",
    "    json.dump(accounts_dict, accounts) # Serialize the dict into the file accounts"
   ]
  },
  {
   "cell_type": "markdown",
   "id": "a6ec3f61-e186-4d4c-8f97-013eadca1e20",
   "metadata": {},
   "source": [
    "**Deserializing the JSON Text**\n",
    "- The json's module load function reads the entire JSON contents of its file object argument and converts the JSON into a Python object"
   ]
  },
  {
   "cell_type": "code",
   "execution_count": 23,
   "id": "cf991097-7ff5-4818-b8c0-87ae0fd1bf8d",
   "metadata": {},
   "outputs": [],
   "source": [
    "# Load the object\n",
    "with open('accounts.json', 'r') as accounts:\n",
    "    accounts.json = json.load(accounts)"
   ]
  },
  {
   "cell_type": "code",
   "execution_count": 24,
   "id": "014b0549-c1f0-4a2a-95d3-8869d94a398e",
   "metadata": {},
   "outputs": [
    {
     "data": {
      "text/plain": [
       "{'accounts': [{'account': 100, 'name': 'Jones', 'balance': 24.98},\n",
       "  {'account': 200, 'name': 'Doe', 'balance': 345.67}]}"
      ]
     },
     "execution_count": 24,
     "metadata": {},
     "output_type": "execute_result"
    }
   ],
   "source": [
    "# Interact with the loaded object\n",
    "\n",
    "accounts.json"
   ]
  },
  {
   "cell_type": "code",
   "execution_count": 25,
   "id": "f6648b44-65e0-45cc-a9c2-1a3ef5afe507",
   "metadata": {},
   "outputs": [
    {
     "data": {
      "text/plain": [
       "[{'account': 100, 'name': 'Jones', 'balance': 24.98},\n",
       " {'account': 200, 'name': 'Doe', 'balance': 345.67}]"
      ]
     },
     "execution_count": 25,
     "metadata": {},
     "output_type": "execute_result"
    }
   ],
   "source": [
    "accounts.json['accounts']"
   ]
  },
  {
   "cell_type": "code",
   "execution_count": 26,
   "id": "71059114-378d-480e-abbf-65126ede1872",
   "metadata": {},
   "outputs": [
    {
     "data": {
      "text/plain": [
       "{'account': 100, 'name': 'Jones', 'balance': 24.98}"
      ]
     },
     "execution_count": 26,
     "metadata": {},
     "output_type": "execute_result"
    }
   ],
   "source": [
    "accounts.json['accounts'][0]"
   ]
  },
  {
   "cell_type": "code",
   "execution_count": 27,
   "id": "32a2fa55-4965-46ed-8558-220da8d0f737",
   "metadata": {},
   "outputs": [
    {
     "data": {
      "text/plain": [
       "{'account': 200, 'name': 'Doe', 'balance': 345.67}"
      ]
     },
     "execution_count": 27,
     "metadata": {},
     "output_type": "execute_result"
    }
   ],
   "source": [
    "accounts.json['accounts'][1]"
   ]
  },
  {
   "cell_type": "markdown",
   "id": "8fb60b2c-25a1-418c-a3aa-afd7cbaa0a2e",
   "metadata": {},
   "source": [
    "**Displaying the JSON text**\n",
    "- The json module's dump function returns a Python string representation of an object in JSON format\n",
    "- Using dumps with load, you can read the JSON from the file and display it in a nicely indented format\n",
    "- When the dumps function call includes the indent keyword argument, the string contains newline characters and indentation for pretty printing"
   ]
  },
  {
   "cell_type": "code",
   "execution_count": 30,
   "id": "b1fa029e-b710-4791-89ab-2dc0914f4d33",
   "metadata": {},
   "outputs": [
    {
     "name": "stdout",
     "output_type": "stream",
     "text": [
      "{\n",
      "    \"accounts\": [\n",
      "        {\n",
      "            \"account\": 100,\n",
      "            \"name\": \"Jones\",\n",
      "            \"balance\": 24.98\n",
      "        },\n",
      "        {\n",
      "            \"account\": 200,\n",
      "            \"name\": \"Doe\",\n",
      "            \"balance\": 345.67\n",
      "        }\n",
      "    ]\n",
      "}\n"
     ]
    }
   ],
   "source": [
    "with open('accounts.json', 'r') as accounts:\n",
    "    print(json.dumps(json.load(accounts), indent=4))"
   ]
  },
  {
   "cell_type": "markdown",
   "id": "c42d1ace-d679-4cf8-a977-fd2acf85dc83",
   "metadata": {},
   "source": [
    "### 9.5 Self Check"
   ]
  },
  {
   "cell_type": "code",
   "execution_count": 32,
   "id": "75555c09-e6ee-46e3-bdf8-8b5e340817be",
   "metadata": {},
   "outputs": [],
   "source": [
    "import json\n",
    "\n",
    "grades_dict = {'gradebook': [\n",
    "    {'student_id': 1, 'name': 'Red', 'grade': 'A'},\n",
    "    {'student_id': 2, 'name': 'Green', 'grade': 'B'},\n",
    "    {'student_id': 3, 'name': 'White', 'grade': 'A'}]}\n",
    "\n",
    "with open('grades.json', 'w') as grades:\n",
    "    json.dump(grades_dict, grades)"
   ]
  },
  {
   "cell_type": "code",
   "execution_count": 34,
   "id": "74b96166-afa2-456d-9d6d-6a601742713e",
   "metadata": {},
   "outputs": [
    {
     "name": "stdout",
     "output_type": "stream",
     "text": [
      "{\n",
      "    \"gradebook\": [\n",
      "        {\n",
      "            \"student_id\": 1,\n",
      "            \"name\": \"Red\",\n",
      "            \"grade\": \"A\"\n",
      "        },\n",
      "        {\n",
      "            \"student_id\": 2,\n",
      "            \"name\": \"Green\",\n",
      "            \"grade\": \"B\"\n",
      "        },\n",
      "        {\n",
      "            \"student_id\": 3,\n",
      "            \"name\": \"White\",\n",
      "            \"grade\": \"A\"\n",
      "        }\n",
      "    ]\n",
      "}\n"
     ]
    }
   ],
   "source": [
    "with open('grades.json', 'r') as grades:\n",
    "    print(json.dumps(json.load(grades), indent=4))"
   ]
  }
 ],
 "metadata": {
  "kernelspec": {
   "display_name": "Python 3 (ipykernel)",
   "language": "python",
   "name": "python3"
  },
  "language_info": {
   "codemirror_mode": {
    "name": "ipython",
    "version": 3
   },
   "file_extension": ".py",
   "mimetype": "text/x-python",
   "name": "python",
   "nbconvert_exporter": "python",
   "pygments_lexer": "ipython3",
   "version": "3.9.7"
  }
 },
 "nbformat": 4,
 "nbformat_minor": 5
}
