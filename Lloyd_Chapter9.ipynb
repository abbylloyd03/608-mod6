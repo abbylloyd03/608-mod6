{
 "cells": [
  {
   "cell_type": "markdown",
   "id": "1a872fa9-b318-474a-baaf-d598bbcbb5bf",
   "metadata": {},
   "source": [
    "# Chapter 9: Files and Exceptions"
   ]
  },
  {
   "cell_type": "markdown",
   "id": "a3b8a4e3-ad2c-4c84-801f-3130edbb19ce",
   "metadata": {},
   "source": [
    "### 9.2 Files\n",
    "- Python views a text file as a sequence of characters and a binary file as a sequence of bytes\n",
    "- As in lists, the first character in a text file and byte in a binary file is located at position 0\n",
    "- The highest position number is n-1\n",
    "- For each file you open, Python creates a file object that you'll use to interact with the file\n",
    "\n",
    "\n",
    "Every operating system provides a mechanism to denote the end of a file\n",
    "- Some represent it with an end-of-file marker\n",
    "- Others might maintain a count of the total characters/bytes in the file"
   ]
  },
  {
   "cell_type": "markdown",
   "id": "471988c6-54fc-45d4-85e6-d659317b5d54",
   "metadata": {},
   "source": [
    "**Standard file objects**\n",
    "<br> When a Python program begins execution, it creates three standard file objects:\n",
    "- sys.stdin - the standard input file object\n",
    "- sys.stdout - the standard output file object\n",
    "- sys.stderr - the standard error file object\n",
    "- The input function implicitly uses sys.stdin to get user input from the keybord\n",
    "- Function print implicitly outputs to stdout, which appears in the command line\n",
    "- Python implicitly outputs program errors and tracebacks to sys.stderr, which also appears in the command line\n",
    "- You must import the sys module if you need to refer to these objects explicitly in your code\n"
   ]
  },
  {
   "cell_type": "markdown",
   "id": "df2623e6-b66d-4f4b-b2aa-8cb7a58dee4c",
   "metadata": {},
   "source": [
    "### 9.3 Text-file Processing"
   ]
  },
  {
   "cell_type": "code",
   "execution_count": 2,
   "id": "5a845f19-fb8d-42c2-8780-2e6454798cbe",
   "metadata": {},
   "outputs": [],
   "source": [
    "with open('accounts.txt', mode='w') as accounts: # Write mode\n",
    "    accounts.write('100 Jones 24.98\\n')\n",
    "    accounts.write('200 Doe 345.67\\n')\n",
    "    accounts.write('300 White 0.00\\n')\n",
    "    accounts.write('400 Stone -42.16\\n')\n",
    "    accounts.write('500 Rich 224.62\\n')\n",
    "    \n",
    "# You can also write to a file with print which automatically outputs a \\n\n",
    "# print('100 Jones 24.98', file=accounts)"
   ]
  },
  {
   "cell_type": "markdown",
   "id": "3eb33623-06e1-4829-b216-f6905a234aa6",
   "metadata": {},
   "source": [
    "**Python's with statement**\n",
    "- acquires a resource and assigns its corresponding object to a variable\n",
    "- allows the application to use the resource via that variable\n",
    "- calls the resource object's close method to release the resource when program control reaches the end of the with statement's suite"
   ]
  },
  {
   "cell_type": "markdown",
   "id": "a99dcdac-0674-44b6-b4ea-f3e7072048a5",
   "metadata": {},
   "source": [
    "**Built-in function open**\n",
    "- The open function opens the file and associates it with a file object\n",
    "- The mode argument specifies the file-open mode \n",
    "- The mode 'w' opens the file for writing, creating the file if it doesn not exist\n",
    "- If you do not specify a path to the file, Python creates it in the current folder\n",
    "- **Be careful:** Opening a file for writing deletes all the existing data in the file"
   ]
  },
  {
   "cell_type": "markdown",
   "id": "e479af63-a97e-465d-a787-826230a93c16",
   "metadata": {},
   "source": [
    "**Writing to the file**\n",
    "- The with statement assigns the object returned by open to the variable (accounts) in the as clause"
   ]
  },
  {
   "cell_type": "markdown",
   "id": "f3bd40a0-6f63-4f9d-9998-a60f7b99981e",
   "metadata": {},
   "source": [
    "### 9.3.1 Self Check"
   ]
  },
  {
   "cell_type": "code",
   "execution_count": 4,
   "id": "fcf74289-3e0f-4400-8a32-36586fdf5f54",
   "metadata": {},
   "outputs": [],
   "source": [
    "with open('grades.txt', mode='w') as grades:\n",
    "    grades.write('1 Red A\\n')\n",
    "    grades.write('2 Green B\\n')\n",
    "    grades.write('3 White A\\n')"
   ]
  },
  {
   "cell_type": "markdown",
   "id": "a434ba3a-1f53-4c2f-adb6-747e884a4fee",
   "metadata": {},
   "source": [
    "### 9.3.2 Reading Data from a Text File\n",
    "- If the contents of a file should not be modified, open the file for reading only - 'r'"
   ]
  },
  {
   "cell_type": "code",
   "execution_count": 8,
   "id": "c9c2871b-0fa3-40ea-814e-221517e34cc7",
   "metadata": {},
   "outputs": [
    {
     "name": "stdout",
     "output_type": "stream",
     "text": [
      "Account   Name         Balance\n",
      "100       Jones          24.98\n",
      "200       Doe           345.67\n",
      "300       White           0.00\n",
      "400       Stone         -42.16\n",
      "500       Rich          224.62\n"
     ]
    }
   ],
   "source": [
    "# Read records from the file accounts.txt and display the contents of each record in columns\n",
    "# The Account and Name columns are left aligned\n",
    "# Balance column is right aligned\n",
    "\n",
    "with open('accounts.txt', mode='r') as account: # Read mode\n",
    "    print(f'{\"Account\":<10}{\"Name\":<10}{\"Balance\":>10}')\n",
    "    for record in account:\n",
    "        account, name, balance = record.split()\n",
    "        print(f'{account:<10}{name:<10}{balance:>10}')"
   ]
  },
  {
   "cell_type": "markdown",
   "id": "1f0ab7b4-239e-4534-b39f-06bc9df98ca1",
   "metadata": {},
   "source": [
    "**File method readlines**\n",
    "- The readlines method also can be used to read an entire text file\n",
    "- The method returns each line as a string in a list of strings\n",
    "- Use only for small files"
   ]
  },
  {
   "cell_type": "markdown",
   "id": "2878a47e-213f-4863-a6e8-bddef94a96f4",
   "metadata": {},
   "source": [
    "**Seeking to a specific file position**\n",
    "- The system maintains a file-position pointer representing the location of the next character to read\n",
    "- To reposition the file-position pointer to the beginning of the file, use file_object.seek(0)"
   ]
  },
  {
   "cell_type": "markdown",
   "id": "875e9338-5bc0-4863-829f-8fec197cffa4",
   "metadata": {},
   "source": [
    "### 9.3.2 Self Check"
   ]
  },
  {
   "cell_type": "code",
   "execution_count": 10,
   "id": "16a39870-7ff0-45fe-be05-7fd4ea431aaf",
   "metadata": {},
   "outputs": [
    {
     "name": "stdout",
     "output_type": "stream",
     "text": [
      "ID        Name           Grade\n",
      "1         Red                A\n",
      "2         Green              B\n",
      "3         White              A\n"
     ]
    }
   ],
   "source": [
    "with open('grades.txt', mode='r') as grades:\n",
    "    print(f'{\"ID\":<10}{\"Name\":<10}{\"Grade\":>10}')\n",
    "    for record in grades:\n",
    "        id_1, name, grade = record.split()\n",
    "        print(f'{id_1:<10}{name:<10}{grade:>10}')"
   ]
  },
  {
   "cell_type": "markdown",
   "id": "1fbdad96-d524-4807-8c6c-119828460ea0",
   "metadata": {},
   "source": [
    "### 9.4 Updating Text Files\n",
    "- Formatted data written to a text file cannot be modified without the risk of destroying other data\n",
    "- How to replace \\[300 White 0.00]?\n",
    "- Copy the records before \\[300 White 0.00]\n",
    "- Write the updated and correctly formatted record for account 300 to this file\n",
    "- Copy the records after \\[300 White 0.00] to the temporary file\n",
    "- Delete the old file and\n",
    "- Rename the temporary file to use the original file's name"
   ]
  },
  {
   "cell_type": "markdown",
   "id": "b4528b1d-b2ac-4aec-82e1-78bdcd3adee3",
   "metadata": {},
   "source": [
    "**Updating accounts.txt**"
   ]
  },
  {
   "cell_type": "code",
   "execution_count": 11,
   "id": "ea70f16e-6abf-4552-8127-17fb98f22c19",
   "metadata": {},
   "outputs": [],
   "source": [
    "accounts = open('accounts.txt', 'r')\n",
    "\n",
    "# Create new temporary file\n",
    "temp_file = open('temp_file.txt', 'w')\n",
    "\n",
    "with accounts, temp_file:\n",
    "    # Copy  the records before and after White\n",
    "    for record in accounts:\n",
    "        account, name, balance = record.split()\n",
    "        if account != '300':\n",
    "            temp_file.write(record)\n",
    "        # Write the updated and correctly formatted record for 300\n",
    "        else:\n",
    "            new_record = ' '.join([account, 'Williams', balance])\n",
    "            temp_file.write(new_record + '\\n')\n",
    "                 "
   ]
  },
  {
   "cell_type": "markdown",
   "id": "6fe817c5-15cb-4cc0-b9f7-7493ca3f3f49",
   "metadata": {},
   "source": [
    "**os module file-processing functions**\n",
    "- The os module provides functions for interacting with the operating system, including several that manipulate your system's files and directories\n",
    "- The remove function is used to delete the original file\n",
    "- The rename function renames a file"
   ]
  },
  {
   "cell_type": "code",
   "execution_count": 12,
   "id": "fa756961-fd6b-4114-999f-d7c40c2fa914",
   "metadata": {},
   "outputs": [],
   "source": [
    "import os\n",
    "os.remove('accounts.txt')"
   ]
  },
  {
   "cell_type": "code",
   "execution_count": 14,
   "id": "8e725fa0-a07a-4cd0-b192-0bded2eba488",
   "metadata": {},
   "outputs": [
    {
     "ename": "FileNotFoundError",
     "evalue": "[Errno 2] No such file or directory: 'temp_file.txt' -> 'accounts.txt'",
     "output_type": "error",
     "traceback": [
      "\u001b[0;31m---------------------------------------------------------------------------\u001b[0m",
      "\u001b[0;31mFileNotFoundError\u001b[0m                         Traceback (most recent call last)",
      "Input \u001b[0;32mIn [14]\u001b[0m, in \u001b[0;36m<module>\u001b[0;34m\u001b[0m\n\u001b[0;32m----> 1\u001b[0m \u001b[43mos\u001b[49m\u001b[38;5;241;43m.\u001b[39;49m\u001b[43mrename\u001b[49m\u001b[43m(\u001b[49m\u001b[38;5;124;43m'\u001b[39;49m\u001b[38;5;124;43mtemp_file.txt\u001b[39;49m\u001b[38;5;124;43m'\u001b[39;49m\u001b[43m,\u001b[49m\u001b[43m \u001b[49m\u001b[38;5;124;43m'\u001b[39;49m\u001b[38;5;124;43maccounts.txt\u001b[39;49m\u001b[38;5;124;43m'\u001b[39;49m\u001b[43m)\u001b[49m\n",
      "\u001b[0;31mFileNotFoundError\u001b[0m: [Errno 2] No such file or directory: 'temp_file.txt' -> 'accounts.txt'"
     ]
    }
   ],
   "source": [
    "os.rename('temp_file.txt', 'accounts.txt')"
   ]
  }
 ],
 "metadata": {
  "kernelspec": {
   "display_name": "Python 3 (ipykernel)",
   "language": "python",
   "name": "python3"
  },
  "language_info": {
   "codemirror_mode": {
    "name": "ipython",
    "version": 3
   },
   "file_extension": ".py",
   "mimetype": "text/x-python",
   "name": "python",
   "nbconvert_exporter": "python",
   "pygments_lexer": "ipython3",
   "version": "3.9.7"
  }
 },
 "nbformat": 4,
 "nbformat_minor": 5
}
