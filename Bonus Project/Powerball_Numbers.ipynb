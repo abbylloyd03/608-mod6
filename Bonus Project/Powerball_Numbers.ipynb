{
 "cells": [
  {
   "cell_type": "markdown",
   "id": "c632d424-ef57-4a34-95c6-6e1787ede14b",
   "metadata": {},
   "source": [
    "# Bonus: Powerball Numbers beginning in 2010\n",
    "\n",
    "### Abby Lloyd"
   ]
  },
  {
   "cell_type": "code",
   "execution_count": 62,
   "id": "11c20024-4e1c-48eb-b4b7-02503ef9ebd1",
   "metadata": {},
   "outputs": [],
   "source": [
    "import pandas as pd\n",
    "\n",
    "lottery1 = pd.read_csv('lottery-powerball-winning-numbers-beginning-2010-1.csv', \n",
    "                      names=['date', 'winning_numbers', 'multiplier'], header=0)"
   ]
  },
  {
   "cell_type": "code",
   "execution_count": 63,
   "id": "2953cf1b-0b61-4167-a275-74b8bc5d515c",
   "metadata": {},
   "outputs": [
    {
     "data": {
      "text/plain": [
       "array([[<AxesSubplot:title={'center':'multiplier'}>]], dtype=object)"
      ]
     },
     "execution_count": 63,
     "metadata": {},
     "output_type": "execute_result"
    },
    {
     "data": {
      "image/png": "[encoded data removed]",
      "text/plain": [
       "<Figure size 432x288 with 1 Axes>"
      ]
     },
     "metadata": {
      "needs_background": "light"
     },
     "output_type": "display_data"
    }
   ],
   "source": [
    "pd.to_numeric(lottery2['multiplier'], errors='ignore')\n",
    "\n",
    "lottery1.hist('multiplier')"
   ]
  },
  {
   "cell_type": "markdown",
   "id": "833c19de-6049-47e0-9902-852d9f6b537a",
   "metadata": {},
   "source": [
    "### Separate powerball from other winning numbers"
   ]
  },
  {
   "cell_type": "code",
   "execution_count": 64,
   "id": "438e2a25-ac5f-4fe0-9882-8da49fe35c28",
   "metadata": {},
   "outputs": [
    {
     "data": {
      "text/html": [
       "<div>\n",
       "<style scoped>\n",
       "    .dataframe tbody tr th:only-of-type {\n",
       "        vertical-align: middle;\n",
       "    }\n",
       "\n",
       "    .dataframe tbody tr th {\n",
       "        vertical-align: top;\n",
       "    }\n",
       "\n",
       "    .dataframe thead th {\n",
       "        text-align: right;\n",
       "    }\n",
       "</style>\n",
       "<table border=\"1\" class=\"dataframe\">\n",
       "  <thead>\n",
       "    <tr style=\"text-align: right;\">\n",
       "      <th></th>\n",
       "      <th>date</th>\n",
       "      <th>winning_numbers</th>\n",
       "      <th>multiplier</th>\n",
       "      <th>powerball</th>\n",
       "    </tr>\n",
       "  </thead>\n",
       "  <tbody>\n",
       "    <tr>\n",
       "      <th>0</th>\n",
       "      <td>01/12/2019</td>\n",
       "      <td>07 36 48 57 58 24</td>\n",
       "      <td>2.0</td>\n",
       "      <td>24</td>\n",
       "    </tr>\n",
       "    <tr>\n",
       "      <th>1</th>\n",
       "      <td>01/09/2019</td>\n",
       "      <td>06 19 37 49 59 22</td>\n",
       "      <td>3.0</td>\n",
       "      <td>22</td>\n",
       "    </tr>\n",
       "    <tr>\n",
       "      <th>2</th>\n",
       "      <td>01/05/2019</td>\n",
       "      <td>03 07 15 27 69 19</td>\n",
       "      <td>2.0</td>\n",
       "      <td>19</td>\n",
       "    </tr>\n",
       "    <tr>\n",
       "      <th>3</th>\n",
       "      <td>01/02/2019</td>\n",
       "      <td>08 12 42 46 56 12</td>\n",
       "      <td>2.0</td>\n",
       "      <td>12</td>\n",
       "    </tr>\n",
       "    <tr>\n",
       "      <th>4</th>\n",
       "      <td>12/29/2018</td>\n",
       "      <td>12 42 51 53 62 25</td>\n",
       "      <td>2.0</td>\n",
       "      <td>25</td>\n",
       "    </tr>\n",
       "  </tbody>\n",
       "</table>\n",
       "</div>"
      ],
      "text/plain": [
       "         date    winning_numbers  multiplier powerball\n",
       "0  01/12/2019  07 36 48 57 58 24         2.0        24\n",
       "1  01/09/2019  06 19 37 49 59 22         3.0        22\n",
       "2  01/05/2019  03 07 15 27 69 19         2.0        19\n",
       "3  01/02/2019  08 12 42 46 56 12         2.0        12\n",
       "4  12/29/2018  12 42 51 53 62 25         2.0        25"
      ]
     },
     "execution_count": 64,
     "metadata": {},
     "output_type": "execute_result"
    }
   ],
   "source": [
    "lottery1['powerball'] = lottery1['winning_numbers'].map(lambda x: str(x)[-3:])\n",
    "\n",
    "lottery1.head()"
   ]
  },
  {
   "cell_type": "code",
   "execution_count": 65,
   "id": "a3e6a542-2a0d-4c30-9294-d6de9a1495fb",
   "metadata": {},
   "outputs": [
    {
     "data": {
      "text/html": [
       "<div>\n",
       "<style scoped>\n",
       "    .dataframe tbody tr th:only-of-type {\n",
       "        vertical-align: middle;\n",
       "    }\n",
       "\n",
       "    .dataframe tbody tr th {\n",
       "        vertical-align: top;\n",
       "    }\n",
       "\n",
       "    .dataframe thead th {\n",
       "        text-align: right;\n",
       "    }\n",
       "</style>\n",
       "<table border=\"1\" class=\"dataframe\">\n",
       "  <thead>\n",
       "    <tr style=\"text-align: right;\">\n",
       "      <th></th>\n",
       "      <th>date</th>\n",
       "      <th>winning_numbers</th>\n",
       "      <th>multiplier</th>\n",
       "      <th>powerball</th>\n",
       "    </tr>\n",
       "  </thead>\n",
       "  <tbody>\n",
       "    <tr>\n",
       "      <th>0</th>\n",
       "      <td>01/12/2019</td>\n",
       "      <td>07 36 48 57 58</td>\n",
       "      <td>2.0</td>\n",
       "      <td>24</td>\n",
       "    </tr>\n",
       "    <tr>\n",
       "      <th>1</th>\n",
       "      <td>01/09/2019</td>\n",
       "      <td>06 19 37 49 59</td>\n",
       "      <td>3.0</td>\n",
       "      <td>22</td>\n",
       "    </tr>\n",
       "    <tr>\n",
       "      <th>2</th>\n",
       "      <td>01/05/2019</td>\n",
       "      <td>03 07 15 27 69</td>\n",
       "      <td>2.0</td>\n",
       "      <td>19</td>\n",
       "    </tr>\n",
       "    <tr>\n",
       "      <th>3</th>\n",
       "      <td>01/02/2019</td>\n",
       "      <td>08 12 42 46 56</td>\n",
       "      <td>2.0</td>\n",
       "      <td>12</td>\n",
       "    </tr>\n",
       "    <tr>\n",
       "      <th>4</th>\n",
       "      <td>12/29/2018</td>\n",
       "      <td>12 42 51 53 62</td>\n",
       "      <td>2.0</td>\n",
       "      <td>25</td>\n",
       "    </tr>\n",
       "  </tbody>\n",
       "</table>\n",
       "</div>"
      ],
      "text/plain": [
       "         date  winning_numbers  multiplier powerball\n",
       "0  01/12/2019  07 36 48 57 58          2.0        24\n",
       "1  01/09/2019  06 19 37 49 59          3.0        22\n",
       "2  01/05/2019  03 07 15 27 69          2.0        19\n",
       "3  01/02/2019  08 12 42 46 56          2.0        12\n",
       "4  12/29/2018  12 42 51 53 62          2.0        25"
      ]
     },
     "execution_count": 65,
     "metadata": {},
     "output_type": "execute_result"
    }
   ],
   "source": [
    "lottery1['winning_numbers'] = lottery1['winning_numbers'].map(lambda x: str(x)[:-2])\n",
    "\n",
    "lottery1.head()"
   ]
  },
  {
   "cell_type": "markdown",
   "id": "5228cedf-1ccc-40eb-b91a-64dd0820d6bd",
   "metadata": {},
   "source": [
    "### Split winning numbers and create a new df with just the first 5 winning numbers"
   ]
  },
  {
   "cell_type": "code",
   "execution_count": 66,
   "id": "294d9c88-329b-4de1-a912-329c429659cb",
   "metadata": {},
   "outputs": [],
   "source": [
    "lottery1 = lottery1['winning_numbers'].str.split(' ', expand=False)\n",
    "\n",
    "winning_numbers = lottery1.explode('winning_numbers')"
   ]
  },
  {
   "cell_type": "code",
   "execution_count": 67,
   "id": "e35e2444-6bd4-4cdb-a91b-6cf597843786",
   "metadata": {},
   "outputs": [
    {
     "data": {
      "text/plain": [
       "0    07\n",
       "1    36\n",
       "2    48\n",
       "3    57\n",
       "4    58\n",
       "Name: winning_numbers, dtype: object"
      ]
     },
     "execution_count": 67,
     "metadata": {},
     "output_type": "execute_result"
    }
   ],
   "source": [
    "winning_numbers.head()"
   ]
  },
  {
   "cell_type": "code",
   "execution_count": 68,
   "id": "bcc98afc-ead3-488b-8714-cd8f813f4af8",
   "metadata": {},
   "outputs": [
    {
     "data": {
      "text/plain": [
       "count     5598\n",
       "unique      70\n",
       "top           \n",
       "freq       933\n",
       "Name: winning_numbers, dtype: object"
      ]
     },
     "execution_count": 68,
     "metadata": {},
     "output_type": "execute_result"
    }
   ],
   "source": [
    "winning_numbers.describe()"
   ]
  },
  {
   "cell_type": "markdown",
   "id": "62924831-4c95-4a7a-84de-3e45beb113e9",
   "metadata": {},
   "source": [
    "### Which winning numbers are most frequent??"
   ]
  },
  {
   "cell_type": "code",
   "execution_count": 69,
   "id": "5358e4fb-5a58-4cbb-b891-5362cef51e29",
   "metadata": {},
   "outputs": [
    {
     "name": "stdout",
     "output_type": "stream",
     "text": [
      "      933\n",
      "28     92\n",
      "23     91\n",
      "41     88\n",
      "32     86\n",
      "54     85\n",
      "52     84\n",
      "10     84\n",
      "11     83\n",
      "12     83\n",
      "39     82\n",
      "14     80\n",
      "20     80\n",
      "07     80\n",
      "45     80\n",
      "22     80\n",
      "59     79\n",
      "17     79\n",
      "40     79\n",
      "13     79\n",
      "03     78\n",
      "16     78\n",
      "09     78\n",
      "36     78\n",
      "19     77\n",
      "08     76\n",
      "57     76\n",
      "55     75\n",
      "49     75\n",
      "56     73\n",
      "44     73\n",
      "25     73\n",
      "24     72\n",
      "38     72\n",
      "31     72\n",
      "05     72\n",
      "48     72\n",
      "01     72\n",
      "30     71\n",
      "29     71\n",
      "53     71\n",
      "27     70\n",
      "47     70\n",
      "21     70\n",
      "50     70\n",
      "58     70\n",
      "33     69\n",
      "18     69\n",
      "51     68\n",
      "37     67\n",
      "42     67\n",
      "04     66\n",
      "34     65\n",
      "02     64\n",
      "43     64\n",
      "26     64\n",
      "46     64\n",
      "06     63\n",
      "15     61\n",
      "35     53\n",
      "64     38\n",
      "69     38\n",
      "61     34\n",
      "62     32\n",
      "63     31\n",
      "68     26\n",
      "67     24\n",
      "66     23\n",
      "60     19\n",
      "65     17\n",
      "Name: winning_numbers, dtype: int64\n"
     ]
    }
   ],
   "source": [
    "with pd.option_context('display.max_rows', None,):\n",
    "   print(winning_numbers.value_counts())"
   ]
  },
  {
   "cell_type": "markdown",
   "id": "d920af8c-b679-43eb-ab02-e88d959ea010",
   "metadata": {},
   "source": [
    "### Which powerball is most frequent??"
   ]
  },
  {
   "cell_type": "code",
   "execution_count": 70,
   "id": "1de4914d-82a2-4524-8d86-39bc252799a3",
   "metadata": {},
   "outputs": [
    {
     "ename": "KeyError",
     "evalue": "'powerball'",
     "output_type": "error",
     "traceback": [
      "\u001b[0;31m---------------------------------------------------------------------------\u001b[0m",
      "\u001b[0;31mKeyError\u001b[0m                                  Traceback (most recent call last)",
      "Input \u001b[0;32mIn [70]\u001b[0m, in \u001b[0;36m<module>\u001b[0;34m\u001b[0m\n\u001b[0;32m----> 1\u001b[0m \u001b[38;5;28mprint\u001b[39m(\u001b[43mlottery1\u001b[49m\u001b[43m[\u001b[49m\u001b[38;5;124;43m'\u001b[39;49m\u001b[38;5;124;43mpowerball\u001b[39;49m\u001b[38;5;124;43m'\u001b[39;49m\u001b[43m]\u001b[49m\u001b[38;5;241m.\u001b[39mvalue_counts())\n",
      "File \u001b[0;32m/opt/miniconda3/lib/python3.9/site-packages/pandas/core/series.py:942\u001b[0m, in \u001b[0;36mSeries.__getitem__\u001b[0;34m(self, key)\u001b[0m\n\u001b[1;32m    939\u001b[0m     \u001b[38;5;28;01mreturn\u001b[39;00m \u001b[38;5;28mself\u001b[39m\u001b[38;5;241m.\u001b[39m_values[key]\n\u001b[1;32m    941\u001b[0m \u001b[38;5;28;01melif\u001b[39;00m key_is_scalar:\n\u001b[0;32m--> 942\u001b[0m     \u001b[38;5;28;01mreturn\u001b[39;00m \u001b[38;5;28;43mself\u001b[39;49m\u001b[38;5;241;43m.\u001b[39;49m\u001b[43m_get_value\u001b[49m\u001b[43m(\u001b[49m\u001b[43mkey\u001b[49m\u001b[43m)\u001b[49m\n\u001b[1;32m    944\u001b[0m \u001b[38;5;28;01mif\u001b[39;00m is_hashable(key):\n\u001b[1;32m    945\u001b[0m     \u001b[38;5;66;03m# Otherwise index.get_value will raise InvalidIndexError\u001b[39;00m\n\u001b[1;32m    946\u001b[0m     \u001b[38;5;28;01mtry\u001b[39;00m:\n\u001b[1;32m    947\u001b[0m         \u001b[38;5;66;03m# For labels that don't resolve as scalars like tuples and frozensets\u001b[39;00m\n",
      "File \u001b[0;32m/opt/miniconda3/lib/python3.9/site-packages/pandas/core/series.py:1051\u001b[0m, in \u001b[0;36mSeries._get_value\u001b[0;34m(self, label, takeable)\u001b[0m\n\u001b[1;32m   1048\u001b[0m     \u001b[38;5;28;01mreturn\u001b[39;00m \u001b[38;5;28mself\u001b[39m\u001b[38;5;241m.\u001b[39m_values[label]\n\u001b[1;32m   1050\u001b[0m \u001b[38;5;66;03m# Similar to Index.get_value, but we do not fall back to positional\u001b[39;00m\n\u001b[0;32m-> 1051\u001b[0m loc \u001b[38;5;241m=\u001b[39m \u001b[38;5;28;43mself\u001b[39;49m\u001b[38;5;241;43m.\u001b[39;49m\u001b[43mindex\u001b[49m\u001b[38;5;241;43m.\u001b[39;49m\u001b[43mget_loc\u001b[49m\u001b[43m(\u001b[49m\u001b[43mlabel\u001b[49m\u001b[43m)\u001b[49m\n\u001b[1;32m   1052\u001b[0m \u001b[38;5;28;01mreturn\u001b[39;00m \u001b[38;5;28mself\u001b[39m\u001b[38;5;241m.\u001b[39mindex\u001b[38;5;241m.\u001b[39m_get_values_for_loc(\u001b[38;5;28mself\u001b[39m, loc, label)\n",
      "File \u001b[0;32m/opt/miniconda3/lib/python3.9/site-packages/pandas/core/indexes/range.py:388\u001b[0m, in \u001b[0;36mRangeIndex.get_loc\u001b[0;34m(self, key, method, tolerance)\u001b[0m\n\u001b[1;32m    386\u001b[0m         \u001b[38;5;28;01mexcept\u001b[39;00m \u001b[38;5;167;01mValueError\u001b[39;00m \u001b[38;5;28;01mas\u001b[39;00m err:\n\u001b[1;32m    387\u001b[0m             \u001b[38;5;28;01mraise\u001b[39;00m \u001b[38;5;167;01mKeyError\u001b[39;00m(key) \u001b[38;5;28;01mfrom\u001b[39;00m \u001b[38;5;21;01merr\u001b[39;00m\n\u001b[0;32m--> 388\u001b[0m     \u001b[38;5;28;01mraise\u001b[39;00m \u001b[38;5;167;01mKeyError\u001b[39;00m(key)\n\u001b[1;32m    389\u001b[0m \u001b[38;5;28;01mreturn\u001b[39;00m \u001b[38;5;28msuper\u001b[39m()\u001b[38;5;241m.\u001b[39mget_loc(key, method\u001b[38;5;241m=\u001b[39mmethod, tolerance\u001b[38;5;241m=\u001b[39mtolerance)\n",
      "\u001b[0;31mKeyError\u001b[0m: 'powerball'"
     ]
    }
   ],
   "source": [
    "print(lottery1['powerball'].value_counts())"
   ]
  },
  {
   "cell_type": "markdown",
   "id": "25805435-175d-414f-9147-ecdc470418a4",
   "metadata": {},
   "source": [
    "### On October 4, 2015, Powerball changed their rules, maybe we should analyze after October 4, 2015."
   ]
  },
  {
   "cell_type": "code",
   "execution_count": 48,
   "id": "26b1269b-f7cf-4d09-9abe-63c57fa0a8d4",
   "metadata": {},
   "outputs": [
    {
     "data": {
      "text/html": [
       "<div>\n",
       "<style scoped>\n",
       "    .dataframe tbody tr th:only-of-type {\n",
       "        vertical-align: middle;\n",
       "    }\n",
       "\n",
       "    .dataframe tbody tr th {\n",
       "        vertical-align: top;\n",
       "    }\n",
       "\n",
       "    .dataframe thead th {\n",
       "        text-align: right;\n",
       "    }\n",
       "</style>\n",
       "<table border=\"1\" class=\"dataframe\">\n",
       "  <thead>\n",
       "    <tr style=\"text-align: right;\">\n",
       "      <th></th>\n",
       "      <th>date</th>\n",
       "      <th>winning_numbers</th>\n",
       "      <th>multiplier</th>\n",
       "    </tr>\n",
       "  </thead>\n",
       "  <tbody>\n",
       "    <tr>\n",
       "      <th>count</th>\n",
       "      <td>158</td>\n",
       "      <td>158</td>\n",
       "      <td>124</td>\n",
       "    </tr>\n",
       "    <tr>\n",
       "      <th>unique</th>\n",
       "      <td>158</td>\n",
       "      <td>158</td>\n",
       "      <td>5</td>\n",
       "    </tr>\n",
       "    <tr>\n",
       "      <th>top</th>\n",
       "      <td>Draw Date</td>\n",
       "      <td>Winning Numbers</td>\n",
       "      <td>2</td>\n",
       "    </tr>\n",
       "    <tr>\n",
       "      <th>freq</th>\n",
       "      <td>1</td>\n",
       "      <td>1</td>\n",
       "      <td>69</td>\n",
       "    </tr>\n",
       "  </tbody>\n",
       "</table>\n",
       "</div>"
      ],
      "text/plain": [
       "             date  winning_numbers multiplier\n",
       "count         158              158        124\n",
       "unique        158              158          5\n",
       "top     Draw Date  Winning Numbers          2\n",
       "freq            1                1         69"
      ]
     },
     "execution_count": 48,
     "metadata": {},
     "output_type": "execute_result"
    }
   ],
   "source": [
    "lottery2 = pd.read_csv('lottery-powerball-winning-numbers-beginning-2010-1.csv', \n",
    "                      names=['date', 'winning_numbers', 'multiplier'])\n",
    "\n",
    "pd.to_datetime(lottery2['date'], errors='ignore')\n",
    "\n",
    "\n",
    "\n",
    "lottery_updated = lottery2[lottery2['date'] > '10/4/2015']\n",
    "\n",
    "lottery_updated.describe()"
   ]
  },
  {
   "cell_type": "code",
   "execution_count": 49,
   "id": "11adce9e-3481-42a9-ac11-bd135d890d28",
   "metadata": {},
   "outputs": [
    {
     "name": "stderr",
     "output_type": "stream",
     "text": [
      "/var/folders/08/r16vjmps66jch4n1446z7m0r0000gn/T/ipykernel_6609/1774001194.py:1: SettingWithCopyWarning: \n",
      "A value is trying to be set on a copy of a slice from a DataFrame.\n",
      "Try using .loc[row_indexer,col_indexer] = value instead\n",
      "\n",
      "See the caveats in the documentation: https://pandas.pydata.org/pandas-docs/stable/user_guide/indexing.html#returning-a-view-versus-a-copy\n",
      "  lottery_updated['powerball'] = lottery_updated['winning_numbers'].map(lambda x: str(x)[-3:])\n"
     ]
    },
    {
     "data": {
      "text/html": [
       "<div>\n",
       "<style scoped>\n",
       "    .dataframe tbody tr th:only-of-type {\n",
       "        vertical-align: middle;\n",
       "    }\n",
       "\n",
       "    .dataframe tbody tr th {\n",
       "        vertical-align: top;\n",
       "    }\n",
       "\n",
       "    .dataframe thead th {\n",
       "        text-align: right;\n",
       "    }\n",
       "</style>\n",
       "<table border=\"1\" class=\"dataframe\">\n",
       "  <thead>\n",
       "    <tr style=\"text-align: right;\">\n",
       "      <th></th>\n",
       "      <th>date</th>\n",
       "      <th>winning_numbers</th>\n",
       "      <th>multiplier</th>\n",
       "      <th>powerball</th>\n",
       "    </tr>\n",
       "  </thead>\n",
       "  <tbody>\n",
       "    <tr>\n",
       "      <th>0</th>\n",
       "      <td>Draw Date</td>\n",
       "      <td>Winning Numbers</td>\n",
       "      <td>Multiplier</td>\n",
       "      <td>ers</td>\n",
       "    </tr>\n",
       "    <tr>\n",
       "      <th>5</th>\n",
       "      <td>12/29/2018</td>\n",
       "      <td>12 42 51 53 62 25</td>\n",
       "      <td>2</td>\n",
       "      <td>25</td>\n",
       "    </tr>\n",
       "    <tr>\n",
       "      <th>6</th>\n",
       "      <td>12/26/2018</td>\n",
       "      <td>05 25 38 52 67 24</td>\n",
       "      <td>2</td>\n",
       "      <td>24</td>\n",
       "    </tr>\n",
       "    <tr>\n",
       "      <th>7</th>\n",
       "      <td>12/22/2018</td>\n",
       "      <td>21 28 30 40 59 26</td>\n",
       "      <td>3</td>\n",
       "      <td>26</td>\n",
       "    </tr>\n",
       "    <tr>\n",
       "      <th>8</th>\n",
       "      <td>12/19/2018</td>\n",
       "      <td>15 29 31 37 43 16</td>\n",
       "      <td>2</td>\n",
       "      <td>16</td>\n",
       "    </tr>\n",
       "  </tbody>\n",
       "</table>\n",
       "</div>"
      ],
      "text/plain": [
       "         date    winning_numbers  multiplier powerball\n",
       "0   Draw Date    Winning Numbers  Multiplier       ers\n",
       "5  12/29/2018  12 42 51 53 62 25           2        25\n",
       "6  12/26/2018  05 25 38 52 67 24           2        24\n",
       "7  12/22/2018  21 28 30 40 59 26           3        26\n",
       "8  12/19/2018  15 29 31 37 43 16           2        16"
      ]
     },
     "execution_count": 49,
     "metadata": {},
     "output_type": "execute_result"
    }
   ],
   "source": [
    "lottery_updated['powerball'] = lottery_updated['winning_numbers'].map(lambda x: str(x)[-3:])\n",
    "\n",
    "lottery_updated.head()"
   ]
  },
  {
   "cell_type": "code",
   "execution_count": 51,
   "id": "d911ac79-55fa-4e68-bc31-969d99592ca3",
   "metadata": {},
   "outputs": [
    {
     "name": "stderr",
     "output_type": "stream",
     "text": [
      "/var/folders/08/r16vjmps66jch4n1446z7m0r0000gn/T/ipykernel_6609/856691041.py:1: SettingWithCopyWarning: \n",
      "A value is trying to be set on a copy of a slice from a DataFrame.\n",
      "Try using .loc[row_indexer,col_indexer] = value instead\n",
      "\n",
      "See the caveats in the documentation: https://pandas.pydata.org/pandas-docs/stable/user_guide/indexing.html#returning-a-view-versus-a-copy\n",
      "  lottery_updated['winning_numbers'] = lottery_updated['winning_numbers'].map(lambda x: str(x)[:-2])\n"
     ]
    },
    {
     "data": {
      "text/html": [
       "<div>\n",
       "<style scoped>\n",
       "    .dataframe tbody tr th:only-of-type {\n",
       "        vertical-align: middle;\n",
       "    }\n",
       "\n",
       "    .dataframe tbody tr th {\n",
       "        vertical-align: top;\n",
       "    }\n",
       "\n",
       "    .dataframe thead th {\n",
       "        text-align: right;\n",
       "    }\n",
       "</style>\n",
       "<table border=\"1\" class=\"dataframe\">\n",
       "  <thead>\n",
       "    <tr style=\"text-align: right;\">\n",
       "      <th></th>\n",
       "      <th>date</th>\n",
       "      <th>winning_numbers</th>\n",
       "      <th>multiplier</th>\n",
       "      <th>powerball</th>\n",
       "    </tr>\n",
       "  </thead>\n",
       "  <tbody>\n",
       "    <tr>\n",
       "      <th>0</th>\n",
       "      <td>Draw Date</td>\n",
       "      <td>Winning Numbe</td>\n",
       "      <td>Multiplier</td>\n",
       "      <td>ers</td>\n",
       "    </tr>\n",
       "    <tr>\n",
       "      <th>5</th>\n",
       "      <td>12/29/2018</td>\n",
       "      <td>12 42 51 53 62</td>\n",
       "      <td>2</td>\n",
       "      <td>25</td>\n",
       "    </tr>\n",
       "    <tr>\n",
       "      <th>6</th>\n",
       "      <td>12/26/2018</td>\n",
       "      <td>05 25 38 52 67</td>\n",
       "      <td>2</td>\n",
       "      <td>24</td>\n",
       "    </tr>\n",
       "    <tr>\n",
       "      <th>7</th>\n",
       "      <td>12/22/2018</td>\n",
       "      <td>21 28 30 40 59</td>\n",
       "      <td>3</td>\n",
       "      <td>26</td>\n",
       "    </tr>\n",
       "    <tr>\n",
       "      <th>8</th>\n",
       "      <td>12/19/2018</td>\n",
       "      <td>15 29 31 37 43</td>\n",
       "      <td>2</td>\n",
       "      <td>16</td>\n",
       "    </tr>\n",
       "  </tbody>\n",
       "</table>\n",
       "</div>"
      ],
      "text/plain": [
       "         date  winning_numbers  multiplier powerball\n",
       "0   Draw Date    Winning Numbe  Multiplier       ers\n",
       "5  12/29/2018  12 42 51 53 62            2        25\n",
       "6  12/26/2018  05 25 38 52 67            2        24\n",
       "7  12/22/2018  21 28 30 40 59            3        26\n",
       "8  12/19/2018  15 29 31 37 43            2        16"
      ]
     },
     "execution_count": 51,
     "metadata": {},
     "output_type": "execute_result"
    }
   ],
   "source": [
    "lottery_updated['winning_numbers'] = lottery_updated['winning_numbers'].map(lambda x: str(x)[:-2])\n",
    "\n",
    "lottery_updated.head()"
   ]
  },
  {
   "cell_type": "code",
   "execution_count": 52,
   "id": "ed0d72d6-41cb-4ae1-b5a7-e423a7b23b2b",
   "metadata": {},
   "outputs": [],
   "source": [
    "lottery_updated = lottery_updated['winning_numbers'].str.split(' ', expand=False)\n",
    "\n",
    "winning_numbers = lottery_updated.explode('winning_numbers')"
   ]
  },
  {
   "cell_type": "code",
   "execution_count": 53,
   "id": "1228154f-6022-4442-9d3b-16b62316ad4c",
   "metadata": {},
   "outputs": [
    {
     "name": "stdout",
     "output_type": "stream",
     "text": [
      "           157\n",
      "37          20\n",
      "44          19\n",
      "32          19\n",
      "51          18\n",
      "55          18\n",
      "28          18\n",
      "13          17\n",
      "16          17\n",
      "54          17\n",
      "10          17\n",
      "38          17\n",
      "30          17\n",
      "50          15\n",
      "19          15\n",
      "08          15\n",
      "14          15\n",
      "40          15\n",
      "25          15\n",
      "20          14\n",
      "23          14\n",
      "05          14\n",
      "11          14\n",
      "12          13\n",
      "39          13\n",
      "52          13\n",
      "59          12\n",
      "46          12\n",
      "33          12\n",
      "45          12\n",
      "36          12\n",
      "58          12\n",
      "18          12\n",
      "01          11\n",
      "17          11\n",
      "03          11\n",
      "27          11\n",
      "56          11\n",
      "53          11\n",
      "43          10\n",
      "31          10\n",
      "48          10\n",
      "41          10\n",
      "24          10\n",
      "47          10\n",
      "34          10\n",
      "07          10\n",
      "21          10\n",
      "04          10\n",
      "09          10\n",
      "35           9\n",
      "57           9\n",
      "26           9\n",
      "42           9\n",
      "15           9\n",
      "02           8\n",
      "61           8\n",
      "22           7\n",
      "49           7\n",
      "06           7\n",
      "69           6\n",
      "29           6\n",
      "68           5\n",
      "64           5\n",
      "65           4\n",
      "63           4\n",
      "67           4\n",
      "66           4\n",
      "62           4\n",
      "60           2\n",
      "Numbe        1\n",
      "Winning      1\n",
      "Name: winning_numbers, dtype: int64\n"
     ]
    }
   ],
   "source": [
    "with pd.option_context('display.max_rows', None,):\n",
    "   print(winning_numbers.value_counts())"
   ]
  }
 ],
 "metadata": {
  "kernelspec": {
   "display_name": "Python 3 (ipykernel)",
   "language": "python",
   "name": "python3"
  },
  "language_info": {
   "codemirror_mode": {
    "name": "ipython",
    "version": 3
   },
   "file_extension": ".py",
   "mimetype": "text/x-python",
   "name": "python",
   "nbconvert_exporter": "python",
   "pygments_lexer": "ipython3",
   "version": "3.9.7"
  }
 },
 "nbformat": 4,
 "nbformat_minor": 5
}
