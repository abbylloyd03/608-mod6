{
 "cells": [
  {
   "cell_type": "markdown",
   "id": "1a872fa9-b318-474a-baaf-d598bbcbb5bf",
   "metadata": {},
   "source": [
    "# Chapter 9: Files and Exceptions"
   ]
  },
  {
   "cell_type": "markdown",
   "id": "a3b8a4e3-ad2c-4c84-801f-3130edbb19ce",
   "metadata": {},
   "source": [
    "### 9.2 Files\n",
    "- Python views a text file as a sequence of characters and a binary file as a sequence of bytes\n",
    "- As in lists, the first character in a text file and byte in a binary file is located at position 0\n",
    "- The highest position number is n-1\n",
    "- For each file you open, Python creates a file object that you'll use to interact with the file\n",
    "\n",
    "\n",
    "Every operating system provides a mechanism to denote the end of a file\n",
    "- Some represent it with an end-of-file marker\n",
    "- Others might maintain a count of the total characters/bytes in the file"
   ]
  },
  {
   "cell_type": "markdown",
   "id": "471988c6-54fc-45d4-85e6-d659317b5d54",
   "metadata": {},
   "source": [
    "**Standard file objects**\n",
    "<br> When a Python program begins execution, it creates three standard file objects:\n",
    "- sys.stdin - the standard input file object\n",
    "- sys.stdout - the standard output file object\n",
    "- sys.stderr - the standard error file object\n",
    "- The input function implicitly uses sys.stdin to get user input from the keybord\n",
    "- Function print implicitly outputs to stdout, which appears in the command line\n",
    "- Python implicitly outputs program errors and tracebacks to sys.stderr, which also appears in the command line\n",
    "- You must import the sys module if you need to refer to these objects explicitly in your code\n"
   ]
  },
  {
   "cell_type": "markdown",
   "id": "df2623e6-b66d-4f4b-b2aa-8cb7a58dee4c",
   "metadata": {},
   "source": [
    "### 9.3 Text-file Processing"
   ]
  },
  {
   "cell_type": "code",
   "execution_count": 1,
   "id": "5a845f19-fb8d-42c2-8780-2e6454798cbe",
   "metadata": {},
   "outputs": [],
   "source": [
    "with open('accounts.txt', mode='w') as accounts: # Write mode\n",
    "    accounts.write('100 Jones 24.98\\n')\n",
    "    accounts.write('200 Doe 345.67\\n')\n",
    "    accounts.write('300 White 0.00\\n')\n",
    "    accounts.write('400 Stone -42.16\\n')\n",
    "    accounts.write('500 Rich 224.62\\n')\n",
    "    \n",
    "# You can also write to a file with print which automatically outputs a \\n\n",
    "# print('100 Jones 24.98', file=accounts)"
   ]
  },
  {
   "cell_type": "markdown",
   "id": "3eb33623-06e1-4829-b216-f6905a234aa6",
   "metadata": {},
   "source": [
    "**Python's with statement**\n",
    "- acquires a resource and assigns its corresponding object to a variable\n",
    "- allows the application to use the resource via that variable\n",
    "- calls the resource object's close method to release the resource when program control reaches the end of the with statement's suite"
   ]
  },
  {
   "cell_type": "markdown",
   "id": "a99dcdac-0674-44b6-b4ea-f3e7072048a5",
   "metadata": {},
   "source": [
    "**Built-in function open**\n",
    "- The open function opens the file and associates it with a file object\n",
    "- The mode argument specifies the file-open mode \n",
    "- The mode 'w' opens the file for writing, creating the file if it doesn not exist\n",
    "- If you do not specify a path to the file, Python creates it in the current folder\n",
    "- **Be careful:** Opening a file for writing deletes all the existing data in the file"
   ]
  },
  {
   "cell_type": "markdown",
   "id": "e479af63-a97e-465d-a787-826230a93c16",
   "metadata": {},
   "source": [
    "**Writing to the file**\n",
    "- The with statement assigns the object returned by open to the variable (accounts) in the as clause"
   ]
  },
  {
   "cell_type": "markdown",
   "id": "f3bd40a0-6f63-4f9d-9998-a60f7b99981e",
   "metadata": {},
   "source": [
    "### 9.3.1 Self Check"
   ]
  },
  {
   "cell_type": "code",
   "execution_count": 2,
   "id": "fcf74289-3e0f-4400-8a32-36586fdf5f54",
   "metadata": {},
   "outputs": [],
   "source": [
    "with open('grades.txt', mode='w') as grades:\n",
    "    grades.write('1 Red A\\n')\n",
    "    grades.write('2 Green B\\n')\n",
    "    grades.write('3 White A\\n')"
   ]
  },
  {
   "cell_type": "markdown",
   "id": "a434ba3a-1f53-4c2f-adb6-747e884a4fee",
   "metadata": {},
   "source": [
    "### 9.3.2 Reading Data from a Text File\n",
    "- If the contents of a file should not be modified, open the file for reading only - 'r'"
   ]
  },
  {
   "cell_type": "code",
   "execution_count": 3,
   "id": "c9c2871b-0fa3-40ea-814e-221517e34cc7",
   "metadata": {},
   "outputs": [
    {
     "name": "stdout",
     "output_type": "stream",
     "text": [
      "Account   Name         Balance\n",
      "100       Jones          24.98\n",
      "200       Doe           345.67\n",
      "300       White           0.00\n",
      "400       Stone         -42.16\n",
      "500       Rich          224.62\n"
     ]
    }
   ],
   "source": [
    "# Read records from the file accounts.txt and display the contents of each record in columns\n",
    "# The Account and Name columns are left aligned\n",
    "# Balance column is right aligned\n",
    "\n",
    "with open('accounts.txt', mode='r') as account: # Read mode\n",
    "    print(f'{\"Account\":<10}{\"Name\":<10}{\"Balance\":>10}')\n",
    "    for record in account:\n",
    "        account, name, balance = record.split()\n",
    "        print(f'{account:<10}{name:<10}{balance:>10}')"
   ]
  },
  {
   "cell_type": "markdown",
   "id": "1f0ab7b4-239e-4534-b39f-06bc9df98ca1",
   "metadata": {},
   "source": [
    "**File method readlines**\n",
    "- The readlines method also can be used to read an entire text file\n",
    "- The method returns each line as a string in a list of strings\n",
    "- Use only for small files"
   ]
  },
  {
   "cell_type": "markdown",
   "id": "2878a47e-213f-4863-a6e8-bddef94a96f4",
   "metadata": {},
   "source": [
    "**Seeking to a specific file position**\n",
    "- The system maintains a file-position pointer representing the location of the next character to read\n",
    "- To reposition the file-position pointer to the beginning of the file, use file_object.seek(0)"
   ]
  },
  {
   "cell_type": "markdown",
   "id": "875e9338-5bc0-4863-829f-8fec197cffa4",
   "metadata": {},
   "source": [
    "### 9.3.2 Self Check"
   ]
  },
  {
   "cell_type": "code",
   "execution_count": 4,
   "id": "16a39870-7ff0-45fe-be05-7fd4ea431aaf",
   "metadata": {},
   "outputs": [
    {
     "name": "stdout",
     "output_type": "stream",
     "text": [
      "ID        Name           Grade\n",
      "1         Red                A\n",
      "2         Green              B\n",
      "3         White              A\n"
     ]
    }
   ],
   "source": [
    "with open('grades.txt', mode='r') as grades:\n",
    "    print(f'{\"ID\":<10}{\"Name\":<10}{\"Grade\":>10}')\n",
    "    for record in grades:\n",
    "        id_1, name, grade = record.split()\n",
    "        print(f'{id_1:<10}{name:<10}{grade:>10}')"
   ]
  },
  {
   "cell_type": "markdown",
   "id": "1fbdad96-d524-4807-8c6c-119828460ea0",
   "metadata": {},
   "source": [
    "### 9.4 Updating Text Files\n",
    "- Formatted data written to a text file cannot be modified without the risk of destroying other data\n",
    "- How to replace \\[300 White 0.00]?\n",
    "- Copy the records before \\[300 White 0.00]\n",
    "- Write the updated and correctly formatted record for account 300 to this file\n",
    "- Copy the records after \\[300 White 0.00] to the temporary file\n",
    "- Delete the old file and\n",
    "- Rename the temporary file to use the original file's name"
   ]
  },
  {
   "cell_type": "markdown",
   "id": "b4528b1d-b2ac-4aec-82e1-78bdcd3adee3",
   "metadata": {},
   "source": [
    "**Updating accounts.txt**"
   ]
  },
  {
   "cell_type": "code",
   "execution_count": 5,
   "id": "ea70f16e-6abf-4552-8127-17fb98f22c19",
   "metadata": {},
   "outputs": [],
   "source": [
    "accounts = open('accounts.txt', 'r')\n",
    "\n",
    "# Create new temporary file\n",
    "temp_file = open('temp_file.txt', 'w')\n",
    "\n",
    "with accounts, temp_file:\n",
    "    # Copy  the records before and after White\n",
    "    for record in accounts:\n",
    "        account, name, balance = record.split()\n",
    "        if account != '300':\n",
    "            temp_file.write(record)\n",
    "        # Write the updated and correctly formatted record for 300\n",
    "        else:\n",
    "            new_record = ' '.join([account, 'Williams', balance])\n",
    "            temp_file.write(new_record + '\\n')\n",
    "                 "
   ]
  },
  {
   "cell_type": "markdown",
   "id": "6fe817c5-15cb-4cc0-b9f7-7493ca3f3f49",
   "metadata": {},
   "source": [
    "**os module file-processing functions**\n",
    "- The os module provides functions for interacting with the operating system, including several that manipulate your system's files and directories\n",
    "- The remove function is used to delete the original file\n",
    "- The rename function renames a file"
   ]
  },
  {
   "cell_type": "code",
   "execution_count": 6,
   "id": "fa756961-fd6b-4114-999f-d7c40c2fa914",
   "metadata": {},
   "outputs": [],
   "source": [
    "import os\n",
    "os.remove('accounts.txt')"
   ]
  },
  {
   "cell_type": "code",
   "execution_count": 7,
   "id": "8e725fa0-a07a-4cd0-b192-0bded2eba488",
   "metadata": {},
   "outputs": [],
   "source": [
    "os.rename('temp_file.txt', 'accounts.txt')"
   ]
  },
  {
   "cell_type": "markdown",
   "id": "3bb9b00d-bab4-4565-a1fd-2dd1623cb5aa",
   "metadata": {},
   "source": [
    "### 9.4 Self Check"
   ]
  },
  {
   "cell_type": "code",
   "execution_count": 8,
   "id": "e0c44f10-5c75-458c-8570-ea19514b9aeb",
   "metadata": {},
   "outputs": [],
   "source": [
    "accounts = open('accounts.txt', 'r')\n",
    "temp_file = open('temp_file.txt', 'w')\n",
    "\n",
    "with accounts, temp_file:\n",
    "    for records in accounts:\n",
    "        account, name, balance = records.split()\n",
    "        if name != 'Doe':\n",
    "            temp_file.write(records)\n",
    "        else:\n",
    "            new_record = ' '.join([account, 'Smith', balance])\n",
    "            temp_file.write(new_record + '\\n')\n",
    "    "
   ]
  },
  {
   "cell_type": "code",
   "execution_count": 9,
   "id": "f1440ee5-a188-45f1-bda2-93bc329a988e",
   "metadata": {},
   "outputs": [],
   "source": [
    "import os\n",
    "os.remove('accounts.txt')\n",
    "os.rename('temp_file.txt', 'accounts.txt')"
   ]
  },
  {
   "cell_type": "markdown",
   "id": "6e9160ba-cd4a-48d3-8619-54dad9c3cd17",
   "metadata": {},
   "source": [
    "### 9.5 Serialization with JSON\n",
    "- JSON (JavaScript Object Notation) is a text-based, human-and-computer-readable, data-interchange format used to represent object as collections of name-value pairs\n",
    "- JSON can even represent objects of custom classes\n",
    "- JSON has become the preferred data format for transmitting objects across platforms (especially cloud-based web services)\n"
   ]
  },
  {
   "cell_type": "markdown",
   "id": "756a33d2-35f2-4054-acdc-47ab4fc203a0",
   "metadata": {
    "tags": []
   },
   "source": [
    "**JSON Data Format**\n",
    "- JSON objects are similar to Python dictionaries\n",
    "- Each JSON object contains a comma-separated list of property names and values, in curly braces\n",
    "- JSON also supports array (comma-separated values in square brackets\n",
    "\n",
    "\n",
    "Values in JSON objects and arrays can be:\n",
    "- strings in double quotes\n",
    "- numbers\n",
    "- JSON Boolean values\n",
    "- null\n",
    "- arrays\n",
    "- other JSON objects"
   ]
  },
  {
   "cell_type": "markdown",
   "id": "90cbe404-3c50-47e1-bdfa-155a21ea94d8",
   "metadata": {},
   "source": [
    "**Python standard library module json**\n",
    "- The json module enables you to convert objects to JSON text format. (This is known as serializing the data.)\n"
   ]
  },
  {
   "cell_type": "code",
   "execution_count": 10,
   "id": "3f8d344d-a8da-4a0f-87b2-2e32153f59bc",
   "metadata": {},
   "outputs": [],
   "source": [
    "accounts_dict = {'accounts': [\n",
    "    {'account': 100, 'name': 'Jones', 'balance': 24.98},\n",
    "    {'account': 200, 'name': 'Doe', 'balance': 345.67}]}"
   ]
  },
  {
   "cell_type": "code",
   "execution_count": 11,
   "id": "5f733f99-5599-4090-8a3f-3477a6b46228",
   "metadata": {},
   "outputs": [],
   "source": [
    "# Serialize the object to JSON\n",
    "\n",
    "import json\n",
    "\n",
    "with open('accounts.json', 'w') as accounts:\n",
    "    json.dump(accounts_dict, accounts) # Serialize the dict into the file accounts"
   ]
  },
  {
   "cell_type": "markdown",
   "id": "a6ec3f61-e186-4d4c-8f97-013eadca1e20",
   "metadata": {},
   "source": [
    "**Deserializing the JSON Text**\n",
    "- The json's module load function reads the entire JSON contents of its file object argument and converts the JSON into a Python object"
   ]
  },
  {
   "cell_type": "code",
   "execution_count": 12,
   "id": "cf991097-7ff5-4818-b8c0-87ae0fd1bf8d",
   "metadata": {},
   "outputs": [],
   "source": [
    "# Load the object\n",
    "with open('accounts.json', 'r') as accounts:\n",
    "    accounts.json = json.load(accounts)"
   ]
  },
  {
   "cell_type": "code",
   "execution_count": 13,
   "id": "014b0549-c1f0-4a2a-95d3-8869d94a398e",
   "metadata": {},
   "outputs": [
    {
     "data": {
      "text/plain": [
       "{'accounts': [{'account': 100, 'name': 'Jones', 'balance': 24.98},\n",
       "  {'account': 200, 'name': 'Doe', 'balance': 345.67}]}"
      ]
     },
     "execution_count": 13,
     "metadata": {},
     "output_type": "execute_result"
    }
   ],
   "source": [
    "# Interact with the loaded object\n",
    "\n",
    "accounts.json"
   ]
  },
  {
   "cell_type": "code",
   "execution_count": 14,
   "id": "f6648b44-65e0-45cc-a9c2-1a3ef5afe507",
   "metadata": {},
   "outputs": [
    {
     "data": {
      "text/plain": [
       "[{'account': 100, 'name': 'Jones', 'balance': 24.98},\n",
       " {'account': 200, 'name': 'Doe', 'balance': 345.67}]"
      ]
     },
     "execution_count": 14,
     "metadata": {},
     "output_type": "execute_result"
    }
   ],
   "source": [
    "accounts.json['accounts']"
   ]
  },
  {
   "cell_type": "code",
   "execution_count": 15,
   "id": "71059114-378d-480e-abbf-65126ede1872",
   "metadata": {},
   "outputs": [
    {
     "data": {
      "text/plain": [
       "{'account': 100, 'name': 'Jones', 'balance': 24.98}"
      ]
     },
     "execution_count": 15,
     "metadata": {},
     "output_type": "execute_result"
    }
   ],
   "source": [
    "accounts.json['accounts'][0]"
   ]
  },
  {
   "cell_type": "code",
   "execution_count": 16,
   "id": "32a2fa55-4965-46ed-8558-220da8d0f737",
   "metadata": {},
   "outputs": [
    {
     "data": {
      "text/plain": [
       "{'account': 200, 'name': 'Doe', 'balance': 345.67}"
      ]
     },
     "execution_count": 16,
     "metadata": {},
     "output_type": "execute_result"
    }
   ],
   "source": [
    "accounts.json['accounts'][1]"
   ]
  },
  {
   "cell_type": "markdown",
   "id": "8fb60b2c-25a1-418c-a3aa-afd7cbaa0a2e",
   "metadata": {},
   "source": [
    "**Displaying the JSON text**\n",
    "- The json module's dump function returns a Python string representation of an object in JSON format\n",
    "- Using dumps with load, you can read the JSON from the file and display it in a nicely indented format\n",
    "- When the dumps function call includes the indent keyword argument, the string contains newline characters and indentation for pretty printing"
   ]
  },
  {
   "cell_type": "code",
   "execution_count": 17,
   "id": "b1fa029e-b710-4791-89ab-2dc0914f4d33",
   "metadata": {},
   "outputs": [
    {
     "name": "stdout",
     "output_type": "stream",
     "text": [
      "{\n",
      "    \"accounts\": [\n",
      "        {\n",
      "            \"account\": 100,\n",
      "            \"name\": \"Jones\",\n",
      "            \"balance\": 24.98\n",
      "        },\n",
      "        {\n",
      "            \"account\": 200,\n",
      "            \"name\": \"Doe\",\n",
      "            \"balance\": 345.67\n",
      "        }\n",
      "    ]\n",
      "}\n"
     ]
    }
   ],
   "source": [
    "with open('accounts.json', 'r') as accounts:\n",
    "    print(json.dumps(json.load(accounts), indent=4))"
   ]
  },
  {
   "cell_type": "markdown",
   "id": "c42d1ace-d679-4cf8-a977-fd2acf85dc83",
   "metadata": {},
   "source": [
    "### 9.5 Self Check"
   ]
  },
  {
   "cell_type": "code",
   "execution_count": 18,
   "id": "75555c09-e6ee-46e3-bdf8-8b5e340817be",
   "metadata": {},
   "outputs": [],
   "source": [
    "import json\n",
    "\n",
    "grades_dict = {'gradebook': [\n",
    "    {'student_id': 1, 'name': 'Red', 'grade': 'A'},\n",
    "    {'student_id': 2, 'name': 'Green', 'grade': 'B'},\n",
    "    {'student_id': 3, 'name': 'White', 'grade': 'A'}]}\n",
    "\n",
    "with open('grades.json', 'w') as grades:\n",
    "    json.dump(grades_dict, grades)"
   ]
  },
  {
   "cell_type": "code",
   "execution_count": 19,
   "id": "74b96166-afa2-456d-9d6d-6a601742713e",
   "metadata": {},
   "outputs": [
    {
     "name": "stdout",
     "output_type": "stream",
     "text": [
      "{\n",
      "    \"gradebook\": [\n",
      "        {\n",
      "            \"student_id\": 1,\n",
      "            \"name\": \"Red\",\n",
      "            \"grade\": \"A\"\n",
      "        },\n",
      "        {\n",
      "            \"student_id\": 2,\n",
      "            \"name\": \"Green\",\n",
      "            \"grade\": \"B\"\n",
      "        },\n",
      "        {\n",
      "            \"student_id\": 3,\n",
      "            \"name\": \"White\",\n",
      "            \"grade\": \"A\"\n",
      "        }\n",
      "    ]\n",
      "}\n"
     ]
    }
   ],
   "source": [
    "with open('grades.json', 'r') as grades:\n",
    "    print(json.dumps(json.load(grades), indent=4))"
   ]
  },
  {
   "cell_type": "markdown",
   "id": "9b5c69ee-7874-48a6-b352-8fcd9c157c54",
   "metadata": {},
   "source": [
    "### 9.6 Focus on Security: pickle Serialization and Deserialization\n",
    "\n",
    "\n",
    "The pickly module can serialize objects into a Python-specific data format.\n",
    "\n",
    "**Caution:**\n",
    "- Pickle files can be hacked. Do not trust a raw pickle file you recieve over the network\n",
    "- Pickle is a protocol that is specific to Python and cannot be used to communicate with applications written in other languages. It is also insecure by default.\n",
    "- We do not recommend using pickle"
   ]
  },
  {
   "cell_type": "markdown",
   "id": "eabfe692-c4c0-4177-99bc-4c41570fb966",
   "metadata": {},
   "source": [
    "### 9.7 Additional Notes Regarding Files\n",
    "\n",
    "**File-open modes:**\n",
    "- 'r' : Open a text file for reading. This is the default if no mode is specified\n",
    "- 'w' : Open a text file for writing. Existing file contents are deleted\n",
    "- 'a' : Open a text file for appending at the end, creating the file if it does not exist. \n",
    "- 'r+' : Open a text file reading and writing\n",
    "- 'w+' : Open a text file reading and writing. Existing file contents are deleted.\n",
    "- 'a+' : Open a text file reading and appending at the end. New data is written at then end of the file. If the file does not exist, it is created.\n",
    "- Each text-file mode has a corresponding binary-file mode specified with b ('rb'). You would use these modes if you were reading or writing binary files, such as images"
   ]
  },
  {
   "cell_type": "markdown",
   "id": "69faed17-6cc6-467c-93da-2a3e2109ddfa",
   "metadata": {},
   "source": [
    "**Other file object methods**\n",
    "- Read: returns a string containing the number of characters/bytes specified by the method's integer argument\n",
    "- Readline: returns one line of text as a string. This method returns an empty string when it encounters the end of the file\n",
    "- Writelines: recieves a list of strings and writes its contents to a file"
   ]
  },
  {
   "cell_type": "markdown",
   "id": "9b0c0f17-d1e2-43a8-a7b6-03ab6cc976d2",
   "metadata": {},
   "source": [
    "### 9.8 Handling Exceptions\n",
    "- FileNotFoundError: occurs if you attempt to open non-existent file with the 'r' or 'r+' modes\n",
    "- PermissionsError: occurs if you attempt an operation for which you do not have position\n",
    "- ValueError ('I/O operation on closed file'): occurs when you attempt to write to a file that has already been closed"
   ]
  },
  {
   "cell_type": "markdown",
   "id": "68d00cf8-591b-4abe-ba16-4826f2a51c45",
   "metadata": {},
   "source": [
    "### 9.8.1 Division by Zero and Invalid Input"
   ]
  },
  {
   "cell_type": "markdown",
   "id": "14794bba-93cc-4571-bda0-1520111e581f",
   "metadata": {},
   "source": [
    "**Division by Zero**\n",
    "- ZeroDivisionError\n",
    "\n",
    "\n",
    "When an exception is raised in IPython:\n",
    "- terminates the snippet\n",
    "- displays the exception's traceback\n",
    "- shows the next In [] prompt so you can input the next snippet\n",
    "\n",
    "\n",
    "If an exeption occurs in a script, IPython terminates the script and displays the exception's traceback."
   ]
  },
  {
   "cell_type": "markdown",
   "id": "9bbc0a2a-7a45-4e8c-8f80-f9241144386f",
   "metadata": {},
   "source": [
    "**Invalid Input**\n",
    "- Raises a ValueError"
   ]
  },
  {
   "cell_type": "markdown",
   "id": "0a10d7c4-3149-4d37-85d7-9c41842828b4",
   "metadata": {},
   "source": [
    "### 9.8.2 try Statements\n",
    "\n",
    "**try Clause**\n",
    "- Python uses try statements to enable exception handling\n",
    "- The try keyword is followed by a colon and a suite of statements that might raise exceptions\n",
    "\n",
    "**except Clause**\n",
    "- except clauses immediatley follow the try clause suite\n",
    "- These are known as exception handlers\n",
    "- Each except clause specifies the type of exception it handles\n",
    "\n",
    "**else Clause**\n",
    "- else clauses are optional and follow the last except clause\n",
    "- The else clause specifies code that should execute only if the code in the try suite did not raise exceptions"
   ]
  },
  {
   "cell_type": "code",
   "execution_count": 20,
   "id": "d8fa2ffd-65d3-4108-9c31-396abb738f43",
   "metadata": {},
   "outputs": [
    {
     "name": "stdin",
     "output_type": "stream",
     "text": [
      "Enter numerator:  3\n",
      "Enter denominator:  4\n"
     ]
    },
    {
     "name": "stdout",
     "output_type": "stream",
     "text": [
      " 3.000 / 4.000 = 0.750\n"
     ]
    }
   ],
   "source": [
    "while True:\n",
    "    # attempt to convert and divide values\n",
    "    try:\n",
    "        number1 = int(input('Enter numerator: '))\n",
    "        number2 = int(input('Enter denominator: '))\n",
    "        result = number1 / number2\n",
    "    except ValueError:\n",
    "        print('You must enter two integers\\n')\n",
    "    except ZeroDivisionError:\n",
    "        print('Attempted to divide by zero\\n')\n",
    "    else:\n",
    "        print(f'{number1: .3f} / {number2:.3f} = {result:.3f}')\n",
    "        break # terminate the loop\n",
    "                      "
   ]
  },
  {
   "cell_type": "markdown",
   "id": "3d0e103e-33ce-4cae-bcf3-dec6cf58f991",
   "metadata": {},
   "source": [
    "**Flow of control for a ZeroDivisionError**\n",
    "- The point in the program at which an exception occurs is often referred to as the raise point\n",
    "- If there are no except handlers, a process called stack unwinding occurs\n",
    "- When an except clause successfully handles the exception, program execution resumes with finally clause (if there is one), then with the next statement after the try statement\n",
    "- After the exception is handled, program control does not return to the raise point, but to after the try statement"
   ]
  },
  {
   "cell_type": "markdown",
   "id": "cf285457-1adf-405e-ae57-25c598e7e35c",
   "metadata": {},
   "source": [
    "### 9.8.2 Self Check"
   ]
  },
  {
   "cell_type": "code",
   "execution_count": 21,
   "id": "8d2f1bfd-b2ca-4829-8bb8-d3df4d5700c6",
   "metadata": {},
   "outputs": [],
   "source": [
    "def try_int(value):\n",
    "    try:\n",
    "        x = int(value)\n",
    "    except ValueError:\n",
    "        print(f'{value} could not be converted to an integer')\n",
    "    else:\n",
    "        print(f'int({value}) is {x}')"
   ]
  },
  {
   "cell_type": "code",
   "execution_count": 22,
   "id": "db04df83-f912-4cb5-91e1-4a597b614097",
   "metadata": {},
   "outputs": [
    {
     "name": "stdout",
     "output_type": "stream",
     "text": [
      "int(10.7) is 10\n"
     ]
    }
   ],
   "source": [
    "try_int(10.7)"
   ]
  },
  {
   "cell_type": "code",
   "execution_count": 23,
   "id": "37a0f0bb-e4b4-4fe8-aa4b-71d18af27de9",
   "metadata": {},
   "outputs": [
    {
     "name": "stdout",
     "output_type": "stream",
     "text": [
      "hello could not be converted to an integer\n"
     ]
    }
   ],
   "source": [
    "try_int('hello')"
   ]
  },
  {
   "cell_type": "markdown",
   "id": "3b3310d7-8714-4d36-b7ef-dbae7e9903ec",
   "metadata": {},
   "source": [
    "### 9.8.3 Catching Multiple Exceptions in One except Clause\n",
    "- If several except suites are identical, you can catch those exception types by specifying them as a tuple in a single except handler\n",
    "- The as clause is optional\n",
    "- Example: except(type1, type2, ...) as variable_name:"
   ]
  },
  {
   "cell_type": "markdown",
   "id": "16fb2399-a622-4d8f-82cd-c2c91dd8662f",
   "metadata": {},
   "source": [
    "### 9.8.4 What Exceptions Does a Function or Method Raise?\n",
    "- Before using any function or method, read its online API documentation, which specifies what exceptions are thrown by the function/method"
   ]
  },
  {
   "cell_type": "markdown",
   "id": "ae81e99b-0dfc-45c8-a702-3feb68cc3d2d",
   "metadata": {},
   "source": [
    "### 9.8.5 What Code Should Be Placed in a Try Suite?\n",
    "- Place in a try suite a significant logical section of a program in which several statements can raise exceptions. (Rather than using numerous try statements)\n",
    "- However, for proper execution-handling granularity, each try statement should enclose a section of code small enough that, when an exception occurs, the specific context is known and the except handlers can process the exception properly."
   ]
  },
  {
   "cell_type": "markdown",
   "id": "21aadc41-0493-45d7-afde-4a37615ba10f",
   "metadata": {},
   "source": [
    "### 9.9 finally Clause\n",
    "- The finally clause is gauranteed to execute, regardless of whether its try suite executes successfully or an exception occurs\n",
    "- This makes the finally suite an ideal location to place resource-deallocation code for resources acquired in the corresponding try wuite\n",
    "- \"clean up\" code goes into the finall suite"
   ]
  },
  {
   "cell_type": "code",
   "execution_count": 24,
   "id": "feff001e-e447-44c1-a53f-452436ee08e8",
   "metadata": {},
   "outputs": [
    {
     "name": "stdout",
     "output_type": "stream",
     "text": [
      "try suite with no exceptions raised\n",
      "else executes because no exceptions in the try suite\n",
      "finally always executes\n"
     ]
    }
   ],
   "source": [
    "try:\n",
    "    print('try suite with no exceptions raised')\n",
    "\n",
    "except:\n",
    "    print('this will not execute')\n",
    "\n",
    "else:\n",
    "    print('else executes because no exceptions in the try suite')\n",
    "\n",
    "finally:\n",
    "    print('finally always executes')"
   ]
  },
  {
   "cell_type": "code",
   "execution_count": 25,
   "id": "26971509-5bed-4ad3-aaca-bccf5ccbdae9",
   "metadata": {},
   "outputs": [
    {
     "name": "stdout",
     "output_type": "stream",
     "text": [
      "try suite that raises an exception\n",
      "a ValueError occurred\n",
      "finally always executes\n"
     ]
    }
   ],
   "source": [
    "try:\n",
    "    print('try suite that raises an exception')\n",
    "    int('hello')\n",
    "    print('this will not execute')\n",
    "except ValueError:\n",
    "    print('a ValueError occurred')\n",
    "else:\n",
    "    print('else will not execute because an exception occurred')\n",
    "finally:\n",
    "    print('finally always executes')"
   ]
  },
  {
   "cell_type": "markdown",
   "id": "5426c0b5-659c-4e5b-9759-9bedf26c3f60",
   "metadata": {},
   "source": [
    "**Combining with statements and try... except statements**\n",
    "- Robust processing code normally appears in a try suite containing a with statement to gaurantee that the resource gets released\n",
    "- You do not need a finally clause, because the with statement handles resource deallocation"
   ]
  },
  {
   "cell_type": "code",
   "execution_count": 26,
   "id": "d5b05e00-83e1-4fc4-a6b9-bc520c6f772d",
   "metadata": {},
   "outputs": [
    {
     "name": "stdout",
     "output_type": "stream",
     "text": [
      "The file name you specified does not exist\n"
     ]
    }
   ],
   "source": [
    "try:\n",
    "    with open('gradez.txt', 'r') as accounts:\n",
    "        print(f'{\"ID\":<3}{\"Name\":<7}{\"Grade\"}')\n",
    "        for record in accounts:\n",
    "            student_id, name, grade = record.split()\n",
    "            print(f'{student_id:<3}{name:<7}{grade}')\n",
    "except FileNotFoundError:\n",
    "    print('The file name you specified does not exist')"
   ]
  },
  {
   "cell_type": "markdown",
   "id": "8643abbf-9840-4352-9dbf-ff95faa2aa68",
   "metadata": {},
   "source": [
    "### 9.9 Self Check"
   ]
  },
  {
   "cell_type": "code",
   "execution_count": 27,
   "id": "15c2141b-0940-4633-a10f-8f077aa474ed",
   "metadata": {},
   "outputs": [],
   "source": [
    "def try_int(value):\n",
    "    try:\n",
    "        x = int(value)\n",
    "    except ValueError:\n",
    "        print(f'{value} could not be converted to an integer')\n",
    "    else:\n",
    "        print(f'int({value}) is {x}')\n",
    "    finally:\n",
    "        print('finally executed')"
   ]
  },
  {
   "cell_type": "code",
   "execution_count": 28,
   "id": "9e458f11-9152-44eb-b014-ae8a7dc504ea",
   "metadata": {},
   "outputs": [
    {
     "name": "stdout",
     "output_type": "stream",
     "text": [
      "int(10.7) is 10\n",
      "finally executed\n"
     ]
    }
   ],
   "source": [
    "try_int(10.7)"
   ]
  },
  {
   "cell_type": "code",
   "execution_count": 29,
   "id": "8e0de787-bf49-4952-ae39-41f2b39302f3",
   "metadata": {},
   "outputs": [
    {
     "name": "stdout",
     "output_type": "stream",
     "text": [
      "hello could not be converted to an integer\n",
      "finally executed\n"
     ]
    }
   ],
   "source": [
    "try_int('hello')"
   ]
  },
  {
   "cell_type": "markdown",
   "id": "3e658f36-777b-466a-90f9-49cdce8604a3",
   "metadata": {},
   "source": [
    "### 9.10 Explicitly Raising an Exception\n",
    "- The raise statment explicitly raises an exception\n",
    "- The simplest form of the raise state is --- raise ExceptionClassName\n",
    "- The raise statement creates an object of the specified exception class\n",
    "- Code that raises an exception first should release any resources acquired before the exception occurred\n",
    "- In most cases, when you need to raise an exception, it is recommend that you use one of Python's many built-in exception types\n",
    "- [Built-in Exceptions Types](https://docs.python.org/3/library/exceptions.html)"
   ]
  },
  {
   "cell_type": "markdown",
   "id": "fa2e821e-bffd-473e-8f57-a384583c2d82",
   "metadata": {},
   "source": [
    "### 9.11 Stack Unwinding and Tracebacks"
   ]
  },
  {
   "cell_type": "code",
   "execution_count": 30,
   "id": "caef836a-d219-4716-9648-c16cee3a35f4",
   "metadata": {},
   "outputs": [],
   "source": [
    "def function1():\n",
    "    function2()\n",
    "\n",
    "def function2():\n",
    "    raise Exception('An exception occurred')"
   ]
  },
  {
   "cell_type": "code",
   "execution_count": 31,
   "id": "b9757ccc-9cfd-435a-8424-0edaafa640ae",
   "metadata": {},
   "outputs": [
    {
     "ename": "Exception",
     "evalue": "An exception occurred",
     "output_type": "error",
     "traceback": [
      "\u001b[0;31m---------------------------------------------------------------------------\u001b[0m",
      "\u001b[0;31mException\u001b[0m                                 Traceback (most recent call last)",
      "Input \u001b[0;32mIn [31]\u001b[0m, in \u001b[0;36m<module>\u001b[0;34m\u001b[0m\n\u001b[0;32m----> 1\u001b[0m \u001b[43mfunction1\u001b[49m\u001b[43m(\u001b[49m\u001b[43m)\u001b[49m\n",
      "Input \u001b[0;32mIn [30]\u001b[0m, in \u001b[0;36mfunction1\u001b[0;34m()\u001b[0m\n\u001b[1;32m      1\u001b[0m \u001b[38;5;28;01mdef\u001b[39;00m \u001b[38;5;21mfunction1\u001b[39m():\n\u001b[0;32m----> 2\u001b[0m     \u001b[43mfunction2\u001b[49m\u001b[43m(\u001b[49m\u001b[43m)\u001b[49m\n",
      "Input \u001b[0;32mIn [30]\u001b[0m, in \u001b[0;36mfunction2\u001b[0;34m()\u001b[0m\n\u001b[1;32m      4\u001b[0m \u001b[38;5;28;01mdef\u001b[39;00m \u001b[38;5;21mfunction2\u001b[39m():\n\u001b[0;32m----> 5\u001b[0m     \u001b[38;5;28;01mraise\u001b[39;00m \u001b[38;5;167;01mException\u001b[39;00m(\u001b[38;5;124m'\u001b[39m\u001b[38;5;124mAn exception occurred\u001b[39m\u001b[38;5;124m'\u001b[39m)\n",
      "\u001b[0;31mException\u001b[0m: An exception occurred"
     ]
    }
   ],
   "source": [
    "function1()"
   ]
  },
  {
   "cell_type": "markdown",
   "id": "489a1e5c-eed8-4fd3-95bd-65920276da27",
   "metadata": {},
   "source": [
    "**Tips for reading tracebacks**\n",
    "- Start from the end and read the error message first\n",
    "- Then, read upward through the traceback, looking for the first line that indicates code you wrote in your program"
   ]
  },
  {
   "cell_type": "markdown",
   "id": "34ab1578-76b7-4754-b355-681b4753bd7b",
   "metadata": {},
   "source": [
    "**Exceptions in finally suites**\n",
    "- If an exception occurs and is not processed by the time the finally suite executes, stack unwinding occurs\n",
    "- If the finally suite raises a new exception that the suite does not catch, the first exception is lost, and the new exception is passed to the next enclosing try statement\n",
    "- For this reason, a finally suite should always enclose in a try statement any code that may raise an exception, so that the exceptions will be processed within that suite"
   ]
  },
  {
   "cell_type": "markdown",
   "id": "7ae1a9a2-22fd-4c73-9ced-ab00275d7abc",
   "metadata": {},
   "source": [
    "### 9.12 Intro to Data Science: Working with CSV Files"
   ]
  },
  {
   "cell_type": "markdown",
   "id": "fdb733fd-69fb-443c-965b-d9718cbcb9d3",
   "metadata": {},
   "source": [
    "### 9.12.1 Python Standard Libarary Module csv\n",
    "- The csv module provides functions for working with CSV files\n",
    "- Many other libraries also have built-in CSV support\n",
    "\n",
    "**Writing to a csv file**\n",
    "- The csv module's writer function returns an object that writes CSV data to the specified file object\n",
    "- Each call to the writer's writerow method receives an iterable to store in the file\n",
    "- By default writerow delimits values with commas, but you can specify custom delimiters\n",
    "- CSV files generally do not contain spaces after commas\n",
    "- writerow can be replaced with writerows that outputs a comma-separated list of iterables representing records\n",
    "- If you write data that contains commas within a given string, writerow encloses that string in double quotes"
   ]
  },
  {
   "cell_type": "code",
   "execution_count": null,
   "id": "73788180-51f5-4199-b5b3-14981a596436",
   "metadata": {},
   "outputs": [],
   "source": [
    "import csv\n",
    "\n",
    "# Create a csv file\n",
    "with open('accounts.csv', 'w', newline='') as accounts:\n",
    "    writer = csv.writer(accounts) \n",
    "    writer.writerow([100, 'Jones', 24.98])\n",
    "    writer.writerow([200, 'Doe', 345.66])\n",
    "    writer.writerow([300, 'White', 0.00])\n",
    "    writer.writerow([400, 'Stone', -42.16])\n",
    "    writer.writerow([500, 'Rich', 224.62])\n",
    "    "
   ]
  },
  {
   "cell_type": "markdown",
   "id": "bd1ecf3d-5e79-4418-b9d3-942c04fbaad2",
   "metadata": {},
   "source": [
    "**Reading from a CSV file**\n",
    "- The csv module's reader function returns an object that reads CSV-format data from the specified file object\n",
    "- You can iterate through the reader object one record at a time"
   ]
  },
  {
   "cell_type": "code",
   "execution_count": null,
   "id": "7042bc47-2187-4a78-879a-92d91a91f5bd",
   "metadata": {},
   "outputs": [],
   "source": [
    "with open('accounts.csv', 'r', newline='') as accounts:\n",
    "    print(f'{\"Account\":<10}{\"Name\":<10}{\"Balance\":>10}')\n",
    "    reader = csv.reader(accounts)\n",
    "    for record in reader:\n",
    "        account, name, balance = record\n",
    "        print(f'{account:<10}{name:<10}{balance:>10}')"
   ]
  },
  {
   "cell_type": "markdown",
   "id": "aa21e2b3-30f0-4f24-9a44-094637cf6a80",
   "metadata": {},
   "source": [
    "**Caution: commas in csv data fields**\n",
    "- Be careful when working with strings containing embedded commas\n",
    "- Programs that read CSV files typically expect every record to have the same number of fields\n",
    "- Embedded commas can make records have different numbers of fields\n",
    "\n",
    "**Caution: missing commas and extra commas in csv files:**\n",
    "- Ommitting or adding extra commas can cause records to have less or more fields than expected"
   ]
  },
  {
   "cell_type": "markdown",
   "id": "0927d525-bfb7-4527-a1f1-2e8fae1ce28d",
   "metadata": {},
   "source": [
    "### 9.12.1 Self Check"
   ]
  },
  {
   "cell_type": "code",
   "execution_count": null,
   "id": "af554b0d-31b1-4da2-b0bb-90ddc9ccb338",
   "metadata": {},
   "outputs": [],
   "source": [
    "with open('grades.csv', 'w', newline='') as grades:\n",
    "    writer = csv.writer(grades)\n",
    "    writer.writerow([1, 'Red', 'A'])\n",
    "    writer.writerow([2, 'Green', 'B'])\n",
    "    writer.writerow([3, 'White', 'A'])"
   ]
  },
  {
   "cell_type": "code",
   "execution_count": null,
   "id": "ff5a39d5-daff-423e-a0a6-a120b3514a94",
   "metadata": {},
   "outputs": [],
   "source": [
    "with open('grades.csv', 'r', newline='') as grades:\n",
    "    print(f'{\"ID\":<5}{\"Name\":<5}{\"Grade\":>6}')\n",
    "    reader = csv.reader(grades)\n",
    "    for record in reader:\n",
    "        id1, name, grade = record\n",
    "        print(f'{id1:<5}{name:<5}{grade:>6}')"
   ]
  },
  {
   "cell_type": "markdown",
   "id": "32e5564a-25b8-4465-bbf7-995b558b5a0e",
   "metadata": {},
   "source": [
    "### 9.12.2 Reading CSV Files into Pandas DataFrames\n",
    "\n",
    "**Datasets**\n",
    "- Rdatasets repository provides links to over 1100 free datasets in CSV format\n",
    "- Rdatasets available [here](https://github.com/vincentarelbundock/Rdatasets)\n",
    "- Pydataset module specifically used for accessing Rdatasets [here](https://github.com/iamaziz/PyDataset)\n",
    "- Another large source of datasets: [https://github.com/awesomedata/awesome-public-datasets](https://github.com/awesomedata/awesome-public-datasets)"
   ]
  },
  {
   "cell_type": "markdown",
   "id": "b736a371-dff9-4ee3-ae6f-e2047d0fa592",
   "metadata": {},
   "source": [
    "**Working with locally stored csv files**\n",
    "- You can load a csv dataset into a DataFrame with the pandas function read_csv"
   ]
  },
  {
   "cell_type": "code",
   "execution_count": null,
   "id": "7c83b20d-e9d2-440c-bd9b-484e036a459f",
   "metadata": {},
   "outputs": [],
   "source": [
    "import pandas as pd\n",
    "\n",
    "df = pd.read_csv('accounts.csv', \n",
    "                 names=['account', 'name', 'balance'])\n",
    "\n",
    "# The names keyword argument specifies the DataFrame's column names.\n",
    "# If you do not supply this argument, read_csv assumes that the CSV file's first row is the column names.\n",
    "\n",
    "df"
   ]
  },
  {
   "cell_type": "markdown",
   "id": "01bb066f-ec4b-48b1-9897-ef204b2a7677",
   "metadata": {},
   "source": [
    "**Save a DataFrame file using CSV format:**"
   ]
  },
  {
   "cell_type": "code",
   "execution_count": null,
   "id": "b9f9722f-f13f-498f-b0b6-11d2e7723d10",
   "metadata": {},
   "outputs": [],
   "source": [
    "df.to_csv('accounts_from_dataframe.csv', index=False)\n",
    "# index=False indicates that the row names are not written to the file"
   ]
  },
  {
   "cell_type": "markdown",
   "id": "b1654920-2820-4590-b63e-cefb5fbd5cc0",
   "metadata": {},
   "source": [
    "### 9.12.3 Reading the Titanic Disaster Dataset"
   ]
  },
  {
   "cell_type": "code",
   "execution_count": 59,
   "id": "196e4db2-eac6-4917-a875-338128fa04bc",
   "metadata": {},
   "outputs": [
    {
     "name": "stdout",
     "output_type": "stream",
     "text": [
      "   pclass  survived                                             name     sex  \\\n",
      "0     1.0       1.0                    Allen, Miss. Elisabeth Walton  female   \n",
      "1     1.0       1.0                   Allison, Master. Hudson Trevor    male   \n",
      "2     1.0       0.0                     Allison, Miss. Helen Loraine  female   \n",
      "3     1.0       0.0             Allison, Mr. Hudson Joshua Creighton    male   \n",
      "4     1.0       0.0  Allison, Mrs. Hudson J C (Bessie Waldo Daniels)  female   \n",
      "\n",
      "     age  sibsp  parch  ticket    fare    cabin embarked boat   body  \\\n",
      "0  29.00    0.0    0.0   24160  211.34       B5        S    2    NaN   \n",
      "1   0.92    1.0    2.0  113781  151.55  C22 C26        S   11    NaN   \n",
      "2   2.00    1.0    2.0  113781  151.55  C22 C26        S  NaN    NaN   \n",
      "3  30.00    1.0    2.0  113781  151.55  C22 C26        S  NaN  135.0   \n",
      "4  25.00    1.0    2.0  113781  151.55  C22 C26        S  NaN    NaN   \n",
      "\n",
      "                         home.dest  \n",
      "0                     St Louis, MO  \n",
      "1  Montreal, PQ / Chesterville, ON  \n",
      "2  Montreal, PQ / Chesterville, ON  \n",
      "3  Montreal, PQ / Chesterville, ON  \n",
      "4  Montreal, PQ / Chesterville, ON  \n",
      "      pclass  survived                       name     sex   age  sibsp  parch  \\\n",
      "1305     3.0       0.0      Zabour, Miss. Thamine  female   NaN    1.0    0.0   \n",
      "1306     3.0       0.0  Zakarian, Mr. Mapriededer    male  26.5    0.0    0.0   \n",
      "1307     3.0       0.0        Zakarian, Mr. Ortin    male  27.0    0.0    0.0   \n",
      "1308     3.0       0.0         Zimmerman, Mr. Leo    male  29.0    0.0    0.0   \n",
      "1309     NaN       NaN                        NaN     NaN   NaN    NaN    NaN   \n",
      "\n",
      "      ticket   fare cabin embarked boat   body home.dest  \n",
      "1305    2665  14.45   NaN        C  NaN    NaN       NaN  \n",
      "1306    2656   7.22   NaN        C  NaN  304.0       NaN  \n",
      "1307    2670   7.22   NaN        C  NaN    NaN       NaN  \n",
      "1308  315082   7.88   NaN        S  NaN    NaN       NaN  \n",
      "1309     NaN    NaN   NaN      NaN  NaN    NaN       NaN  \n"
     ]
    },
    {
     "data": {
      "text/plain": [
       "['pclass',\n",
       " 'survived',\n",
       " 'name',\n",
       " 'sex',\n",
       " 'age',\n",
       " 'sibsp',\n",
       " 'parch',\n",
       " 'ticket',\n",
       " 'fare',\n",
       " 'cabin',\n",
       " 'embarked',\n",
       " 'boat',\n",
       " 'body',\n",
       " 'home.dest']"
      ]
     },
     "execution_count": 59,
     "metadata": {},
     "output_type": "execute_result"
    }
   ],
   "source": [
    "import pandas as pd\n",
    "\n",
    "pd.set_option('precision', 2)\n",
    "\n",
    "titanic = pd.read_csv('titanic.csv')\n",
    "\n",
    "print(titanic.head())\n",
    "\n",
    "print(titanic.tail())\n",
    "\n",
    "list(titanic.columns)\n"
   ]
  },
  {
   "cell_type": "code",
   "execution_count": 60,
   "id": "e1b6c146-9d41-407c-b9fb-c37980c1e085",
   "metadata": {},
   "outputs": [],
   "source": [
    "titanic.columns = ['class', 'survived', 'name', 'sex', 'age', 'sibsp', 'parch', 'ticket', 'fare', \n",
    "                   'cabin', 'embarked', 'boat', 'body', 'destination']"
   ]
  },
  {
   "cell_type": "markdown",
   "id": "013eaaa0-24dc-4987-9a8a-2e372fee70ee",
   "metadata": {},
   "source": [
    "### 9.12.4 Simple Data Analysis with the Titanic Disaster Dataset"
   ]
  },
  {
   "cell_type": "code",
   "execution_count": 61,
   "id": "6911d209-ba7d-4d24-b1df-db5b4f762acc",
   "metadata": {},
   "outputs": [
    {
     "data": {
      "text/html": [
       "<div>\n",
       "<style scoped>\n",
       "    .dataframe tbody tr th:only-of-type {\n",
       "        vertical-align: middle;\n",
       "    }\n",
       "\n",
       "    .dataframe tbody tr th {\n",
       "        vertical-align: top;\n",
       "    }\n",
       "\n",
       "    .dataframe thead th {\n",
       "        text-align: right;\n",
       "    }\n",
       "</style>\n",
       "<table border=\"1\" class=\"dataframe\">\n",
       "  <thead>\n",
       "    <tr style=\"text-align: right;\">\n",
       "      <th></th>\n",
       "      <th>class</th>\n",
       "      <th>survived</th>\n",
       "      <th>age</th>\n",
       "      <th>sibsp</th>\n",
       "      <th>parch</th>\n",
       "      <th>fare</th>\n",
       "      <th>body</th>\n",
       "    </tr>\n",
       "  </thead>\n",
       "  <tbody>\n",
       "    <tr>\n",
       "      <th>count</th>\n",
       "      <td>1309.00</td>\n",
       "      <td>1309.00</td>\n",
       "      <td>1046.00</td>\n",
       "      <td>1309.00</td>\n",
       "      <td>1309.00</td>\n",
       "      <td>1308.00</td>\n",
       "      <td>121.00</td>\n",
       "    </tr>\n",
       "    <tr>\n",
       "      <th>mean</th>\n",
       "      <td>2.29</td>\n",
       "      <td>0.38</td>\n",
       "      <td>29.88</td>\n",
       "      <td>0.50</td>\n",
       "      <td>0.39</td>\n",
       "      <td>33.30</td>\n",
       "      <td>160.81</td>\n",
       "    </tr>\n",
       "    <tr>\n",
       "      <th>std</th>\n",
       "      <td>0.84</td>\n",
       "      <td>0.49</td>\n",
       "      <td>14.41</td>\n",
       "      <td>1.04</td>\n",
       "      <td>0.87</td>\n",
       "      <td>51.76</td>\n",
       "      <td>97.70</td>\n",
       "    </tr>\n",
       "    <tr>\n",
       "      <th>min</th>\n",
       "      <td>1.00</td>\n",
       "      <td>0.00</td>\n",
       "      <td>0.17</td>\n",
       "      <td>0.00</td>\n",
       "      <td>0.00</td>\n",
       "      <td>0.00</td>\n",
       "      <td>1.00</td>\n",
       "    </tr>\n",
       "    <tr>\n",
       "      <th>25%</th>\n",
       "      <td>2.00</td>\n",
       "      <td>0.00</td>\n",
       "      <td>21.00</td>\n",
       "      <td>0.00</td>\n",
       "      <td>0.00</td>\n",
       "      <td>7.90</td>\n",
       "      <td>72.00</td>\n",
       "    </tr>\n",
       "    <tr>\n",
       "      <th>50%</th>\n",
       "      <td>3.00</td>\n",
       "      <td>0.00</td>\n",
       "      <td>28.00</td>\n",
       "      <td>0.00</td>\n",
       "      <td>0.00</td>\n",
       "      <td>14.45</td>\n",
       "      <td>155.00</td>\n",
       "    </tr>\n",
       "    <tr>\n",
       "      <th>75%</th>\n",
       "      <td>3.00</td>\n",
       "      <td>1.00</td>\n",
       "      <td>39.00</td>\n",
       "      <td>1.00</td>\n",
       "      <td>0.00</td>\n",
       "      <td>31.27</td>\n",
       "      <td>256.00</td>\n",
       "    </tr>\n",
       "    <tr>\n",
       "      <th>max</th>\n",
       "      <td>3.00</td>\n",
       "      <td>1.00</td>\n",
       "      <td>80.00</td>\n",
       "      <td>8.00</td>\n",
       "      <td>9.00</td>\n",
       "      <td>512.33</td>\n",
       "      <td>328.00</td>\n",
       "    </tr>\n",
       "  </tbody>\n",
       "</table>\n",
       "</div>"
      ],
      "text/plain": [
       "         class  survived      age    sibsp    parch     fare    body\n",
       "count  1309.00   1309.00  1046.00  1309.00  1309.00  1308.00  121.00\n",
       "mean      2.29      0.38    29.88     0.50     0.39    33.30  160.81\n",
       "std       0.84      0.49    14.41     1.04     0.87    51.76   97.70\n",
       "min       1.00      0.00     0.17     0.00     0.00     0.00    1.00\n",
       "25%       2.00      0.00    21.00     0.00     0.00     7.90   72.00\n",
       "50%       3.00      0.00    28.00     0.00     0.00    14.45  155.00\n",
       "75%       3.00      1.00    39.00     1.00     0.00    31.27  256.00\n",
       "max       3.00      1.00    80.00     8.00     9.00   512.33  328.00"
      ]
     },
     "execution_count": 61,
     "metadata": {},
     "output_type": "execute_result"
    }
   ],
   "source": [
    "titanic.describe()"
   ]
  },
  {
   "cell_type": "code",
   "execution_count": 62,
   "id": "369cdab5-72c5-47c2-8dec-4250b0278ace",
   "metadata": {},
   "outputs": [
    {
     "data": {
      "text/plain": [
       "count      1310\n",
       "unique        2\n",
       "top       False\n",
       "freq        810\n",
       "Name: survived, dtype: object"
      ]
     },
     "execution_count": 62,
     "metadata": {},
     "output_type": "execute_result"
    }
   ],
   "source": [
    "(titanic.survived == 1).describe() \n",
    "# top is the most frequently occuring value in the result\n",
    "# freq is the number of occurences of the top value"
   ]
  },
  {
   "cell_type": "markdown",
   "id": "f6fb60f7-a234-404c-a319-934c47ff1fc3",
   "metadata": {},
   "source": [
    "### 9.12.5 Histogram - Abby Lloyd"
   ]
  },
  {
   "cell_type": "code",
   "execution_count": 58,
   "id": "942fb8fc-5c85-4e7a-80d4-e621bf210c8b",
   "metadata": {},
   "outputs": [],
   "source": [
    "%matplotlib inline\n",
    "# Use this to imbed a PNG of the graphic in Jupyter Notebook\n",
    "# Use %matplotlib to enable support in IPython"
   ]
  },
  {
   "cell_type": "code",
   "execution_count": 63,
   "id": "98da92a5-257a-405d-a8f6-f2b39afc4bed",
   "metadata": {},
   "outputs": [
    {
     "data": {
      "text/plain": [
       "array([[<AxesSubplot:title={'center':'class'}>,\n",
       "        <AxesSubplot:title={'center':'survived'}>,\n",
       "        <AxesSubplot:title={'center':'age'}>],\n",
       "       [<AxesSubplot:title={'center':'sibsp'}>,\n",
       "        <AxesSubplot:title={'center':'parch'}>,\n",
       "        <AxesSubplot:title={'center':'fare'}>],\n",
       "       [<AxesSubplot:title={'center':'body'}>, <AxesSubplot:>,\n",
       "        <AxesSubplot:>]], dtype=object)"
      ]
     },
     "execution_count": 63,
     "metadata": {},
     "output_type": "execute_result"
    },
    {
     "data": {
      "image/png": "[encoded data removed]",
      "text/plain": [
       "<Figure size 432x288 with 9 Axes>"
      ]
     },
     "metadata": {
      "needs_background": "light"
     },
     "output_type": "display_data"
    }
   ],
   "source": [
    "titanic.hist()"
   ]
  },
  {
   "cell_type": "markdown",
   "id": "34039f06-0522-4677-9dbb-7b3809a69595",
   "metadata": {},
   "source": [
    "### 9.12.5 Passenger Age Histogram"
   ]
  },
  {
   "cell_type": "code",
   "execution_count": 66,
   "id": "deb694ac-993c-4410-b031-fb4a802ad6f4",
   "metadata": {},
   "outputs": [
    {
     "name": "stdout",
     "output_type": "stream",
     "text": [
      "   ID   Name Grade\n",
      "0   1    Red     A\n",
      "1   2  Green     B\n",
      "2   3  White     A\n"
     ]
    }
   ],
   "source": [
    "import pandas\n",
    "\n",
    "grades = pd.read_csv('grades.csv', names=['ID', 'Name', 'Grade'])\n",
    "print(grades)"
   ]
  }
 ],
 "metadata": {
  "kernelspec": {
   "display_name": "Python 3 (ipykernel)",
   "language": "python",
   "name": "python3"
  },
  "language_info": {
   "codemirror_mode": {
    "name": "ipython",
    "version": 3
   },
   "file_extension": ".py",
   "mimetype": "text/x-python",
   "name": "python",
   "nbconvert_exporter": "python",
   "pygments_lexer": "ipython3",
   "version": "3.9.7"
  }
 },
 "nbformat": 4,
 "nbformat_minor": 5
}
