{
 "cells": [
  {
   "cell_type": "markdown",
   "id": "2657cfad-53a7-4605-9730-9126dca8f824",
   "metadata": {},
   "source": [
    "# Chapter 17: Big Data - Hadoop, Spark, NoSQL, Iot"
   ]
  },
  {
   "cell_type": "markdown",
   "id": "697a803c-fe32-4ee6-8ad5-1dcd0cebf027",
   "metadata": {},
   "source": [
    "### 17.1 Introduction\n",
    "\n",
    "**Databases**\n",
    "- Relational databases: store structured data in tables with a fixed-size number of columns per row (Manipulate with SQL)\n",
    "- NoSQL databases: created to handle unstructured / sem-structured data\n",
    "- NewSQL databases: blend the benefits of relational and NoSQL databases\n",
    "\n",
    "Types of NoSQL databases:\n",
    "- key-value\n",
    "- document\n",
    "- columnar\n",
    "- graph\n",
    "\n",
    "**Apache Hadoop**\n",
    "- Designed for distributed data processing with massive parallelsim among clusters of computers\n",
    "- Hadoop executes tasks by bteaking them into pieces that do lots of disk I/O across many computers\n",
    "\n",
    "**Apache Spark**\n",
    "- Spark was developed as a way to perform certain big-data tasks in memory for better performance\n",
    "\n",
    "**IoT**\n",
    "- Publish/subscribe is the model that IoT and other types of applications use to connect data users with data providers\n"
   ]
  },
  {
   "cell_type": "markdown",
   "id": "72f4b962-6001-4312-9b9c-70d2fe6ab5a2",
   "metadata": {},
   "source": [
    "### 17.2 Relational Databases and Structured Query Language (SQL)\n",
    "\n",
    "- A database is an integrated collection of data\n",
    "- A database management system (DBMS) provides mechanisms for storing and organizing data in a manner consistent with the database's format\n",
    "- Relational database management systems (RDBMSs) store data in tables and define relationships among the tables\n",
    "- SQL is used almost universally with relational database systems to manipulate data and perform queries\n",
    "- Most popular database systems have Python support - each typically provides a module that adheres to Python's Database Application Programming Interface (DB-API)\n",
    "\n",
    "Popular open-source RDBMSs:\n",
    "- SQLite\n",
    "- PostgreSQL\n",
    "- MariaDB\n",
    "- MySQL\n",
    "\n",
    "Proprietary RDBMSs:\n",
    "- Microsoft SQL Server\n",
    "- Oracle\n",
    "- Sybase\n",
    "- IBM Db2"
   ]
  },
  {
   "cell_type": "markdown",
   "id": "6481fb32-a777-45c1-834d-031e2afd2a7c",
   "metadata": {},
   "source": [
    "**Tables, Rows, and Columns**\n",
    "- Tables are comprised of rows\n",
    "- Rows are comprised of columns\n",
    "- Primary key: a column with a value that's unique for each row\n",
    "- Rows are unique (by primary key) within a table, but particular column values may be duplicated between rows"
   ]
  },
  {
   "cell_type": "markdown",
   "id": "28bb6fd1-cb27-4c50-87ce-e638bb60440a",
   "metadata": {},
   "source": [
    "### 17.2.1 A books Database"
   ]
  },
  {
   "cell_type": "code",
   "execution_count": 1,
   "id": "f1f05264-453c-4e61-9dcb-ad98730d1774",
   "metadata": {},
   "outputs": [],
   "source": [
    "# Connecting to the database in python\n",
    "\n",
    "import sqlite3\n",
    "\n",
    "connection = sqlite3.connect('books.db')"
   ]
  },
  {
   "cell_type": "markdown",
   "id": "2fb952bb-db92-4b7d-b099-a375239885db",
   "metadata": {},
   "source": [
    "**authors Table**\n",
    "- The authors table stores all the authors and has three columns: 'id', 'first', 'last'"
   ]
  },
  {
   "cell_type": "markdown",
   "id": "10ef5b6e-8579-4c65-a23c-a8ccf058c0dc",
   "metadata": {},
   "source": [
    "**Viewing the authors Table's contents**\n",
    "- The pandas function read_sql executes a SQL query and returns a DataFrame containing the query's results\n",
    "- read_sql arguments: a string representing the SQL query to execute, the SQLite database's Connection object, an index_col keyword argument indicating which column should be used as the DataFrame's row indices\n",
    "- when index_col keyword is not passed, index values starting from 0 appear to the left of the DataFrame's rows"
   ]
  },
  {
   "cell_type": "code",
   "execution_count": 3,
   "id": "13c8fa25-9f77-414f-9f9d-44a6dead11f4",
   "metadata": {},
   "outputs": [
    {
     "data": {
      "text/html": [
       "<div>\n",
       "<style scoped>\n",
       "    .dataframe tbody tr th:only-of-type {\n",
       "        vertical-align: middle;\n",
       "    }\n",
       "\n",
       "    .dataframe tbody tr th {\n",
       "        vertical-align: top;\n",
       "    }\n",
       "\n",
       "    .dataframe thead th {\n",
       "        text-align: right;\n",
       "    }\n",
       "</style>\n",
       "<table border=\"1\" class=\"dataframe\">\n",
       "  <thead>\n",
       "    <tr style=\"text-align: right;\">\n",
       "      <th></th>\n",
       "      <th>first</th>\n",
       "      <th>last</th>\n",
       "    </tr>\n",
       "    <tr>\n",
       "      <th>id</th>\n",
       "      <th></th>\n",
       "      <th></th>\n",
       "    </tr>\n",
       "  </thead>\n",
       "  <tbody>\n",
       "    <tr>\n",
       "      <th>1</th>\n",
       "      <td>Paul</td>\n",
       "      <td>Deitel</td>\n",
       "    </tr>\n",
       "    <tr>\n",
       "      <th>2</th>\n",
       "      <td>Harvey</td>\n",
       "      <td>Deitel</td>\n",
       "    </tr>\n",
       "    <tr>\n",
       "      <th>3</th>\n",
       "      <td>Abbey</td>\n",
       "      <td>Deitel</td>\n",
       "    </tr>\n",
       "    <tr>\n",
       "      <th>4</th>\n",
       "      <td>Dan</td>\n",
       "      <td>Quirk</td>\n",
       "    </tr>\n",
       "    <tr>\n",
       "      <th>5</th>\n",
       "      <td>Alexander</td>\n",
       "      <td>Wald</td>\n",
       "    </tr>\n",
       "  </tbody>\n",
       "</table>\n",
       "</div>"
      ],
      "text/plain": [
       "        first    last\n",
       "id                   \n",
       "1        Paul  Deitel\n",
       "2      Harvey  Deitel\n",
       "3       Abbey  Deitel\n",
       "4         Dan   Quirk\n",
       "5   Alexander    Wald"
      ]
     },
     "execution_count": 3,
     "metadata": {},
     "output_type": "execute_result"
    }
   ],
   "source": [
    "import pandas as pd\n",
    "\n",
    "pd.options.display.max_columns = 10\n",
    "\n",
    "pd.read_sql('SELECT * FROM authors', connection, index_col=['id'])\n",
    "\n",
    "# A SQL SELECT query gets rows and columns from one or more tables in a db\n",
    "# the * is a wildcard indicating that the query should get all columns from the authors table"
   ]
  },
  {
   "cell_type": "markdown",
   "id": "b3f46f10-1fa1-436d-ad71-a0dc7070eb53",
   "metadata": {},
   "source": [
    "**titles table**\n",
    "- The titles table stores all the books and has four columns: 'isbn', 'title', 'edition', 'copyright'"
   ]
  },
  {
   "cell_type": "code",
   "execution_count": 4,
   "id": "3cc1d7f6-3066-4a10-a844-97d2e5467ff7",
   "metadata": {},
   "outputs": [
    {
     "data": {
      "text/html": [
       "<div>\n",
       "<style scoped>\n",
       "    .dataframe tbody tr th:only-of-type {\n",
       "        vertical-align: middle;\n",
       "    }\n",
       "\n",
       "    .dataframe tbody tr th {\n",
       "        vertical-align: top;\n",
       "    }\n",
       "\n",
       "    .dataframe thead th {\n",
       "        text-align: right;\n",
       "    }\n",
       "</style>\n",
       "<table border=\"1\" class=\"dataframe\">\n",
       "  <thead>\n",
       "    <tr style=\"text-align: right;\">\n",
       "      <th></th>\n",
       "      <th>isbn</th>\n",
       "      <th>title</th>\n",
       "      <th>edition</th>\n",
       "      <th>copyright</th>\n",
       "    </tr>\n",
       "  </thead>\n",
       "  <tbody>\n",
       "    <tr>\n",
       "      <th>0</th>\n",
       "      <td>0135404673</td>\n",
       "      <td>Intro to Python for CS and DS</td>\n",
       "      <td>1</td>\n",
       "      <td>2020</td>\n",
       "    </tr>\n",
       "    <tr>\n",
       "      <th>1</th>\n",
       "      <td>0132151006</td>\n",
       "      <td>Internet &amp; WWW How to Program</td>\n",
       "      <td>5</td>\n",
       "      <td>2012</td>\n",
       "    </tr>\n",
       "    <tr>\n",
       "      <th>2</th>\n",
       "      <td>0134743350</td>\n",
       "      <td>Java How to Program</td>\n",
       "      <td>11</td>\n",
       "      <td>2018</td>\n",
       "    </tr>\n",
       "    <tr>\n",
       "      <th>3</th>\n",
       "      <td>0133976890</td>\n",
       "      <td>C How to Program</td>\n",
       "      <td>8</td>\n",
       "      <td>2016</td>\n",
       "    </tr>\n",
       "    <tr>\n",
       "      <th>4</th>\n",
       "      <td>0133406954</td>\n",
       "      <td>Visual Basic 2012 How to Program</td>\n",
       "      <td>6</td>\n",
       "      <td>2014</td>\n",
       "    </tr>\n",
       "    <tr>\n",
       "      <th>5</th>\n",
       "      <td>0134601548</td>\n",
       "      <td>Visual C# How to Program</td>\n",
       "      <td>6</td>\n",
       "      <td>2017</td>\n",
       "    </tr>\n",
       "    <tr>\n",
       "      <th>6</th>\n",
       "      <td>0136151574</td>\n",
       "      <td>Visual C++ How to Program</td>\n",
       "      <td>2</td>\n",
       "      <td>2008</td>\n",
       "    </tr>\n",
       "    <tr>\n",
       "      <th>7</th>\n",
       "      <td>0134448235</td>\n",
       "      <td>C++ How to Program</td>\n",
       "      <td>10</td>\n",
       "      <td>2017</td>\n",
       "    </tr>\n",
       "    <tr>\n",
       "      <th>8</th>\n",
       "      <td>0134444302</td>\n",
       "      <td>Android How to Program</td>\n",
       "      <td>3</td>\n",
       "      <td>2017</td>\n",
       "    </tr>\n",
       "    <tr>\n",
       "      <th>9</th>\n",
       "      <td>0134289366</td>\n",
       "      <td>Android 6 for Programmers</td>\n",
       "      <td>3</td>\n",
       "      <td>2016</td>\n",
       "    </tr>\n",
       "  </tbody>\n",
       "</table>\n",
       "</div>"
      ],
      "text/plain": [
       "         isbn                             title  edition copyright\n",
       "0  0135404673     Intro to Python for CS and DS        1      2020\n",
       "1  0132151006     Internet & WWW How to Program        5      2012\n",
       "2  0134743350               Java How to Program       11      2018\n",
       "3  0133976890                  C How to Program        8      2016\n",
       "4  0133406954  Visual Basic 2012 How to Program        6      2014\n",
       "5  0134601548          Visual C# How to Program        6      2017\n",
       "6  0136151574         Visual C++ How to Program        2      2008\n",
       "7  0134448235                C++ How to Program       10      2017\n",
       "8  0134444302            Android How to Program        3      2017\n",
       "9  0134289366         Android 6 for Programmers        3      2016"
      ]
     },
     "execution_count": 4,
     "metadata": {},
     "output_type": "execute_result"
    }
   ],
   "source": [
    "pd.read_sql('SELECT * FROM titles', connection)"
   ]
  },
  {
   "cell_type": "code",
   "execution_count": null,
   "id": "a6d6c6a8-4bb0-4218-8673-e3a4faed4b78",
   "metadata": {},
   "outputs": [],
   "source": []
  }
 ],
 "metadata": {
  "kernelspec": {
   "display_name": "Python 3 (ipykernel)",
   "language": "python",
   "name": "python3"
  },
  "language_info": {
   "codemirror_mode": {
    "name": "ipython",
    "version": 3
   },
   "file_extension": ".py",
   "mimetype": "text/x-python",
   "name": "python",
   "nbconvert_exporter": "python",
   "pygments_lexer": "ipython3",
   "version": "3.9.7"
  }
 },
 "nbformat": 4,
 "nbformat_minor": 5
}
